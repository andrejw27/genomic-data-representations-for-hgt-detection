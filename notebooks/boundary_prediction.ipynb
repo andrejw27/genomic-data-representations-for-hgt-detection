{
 "cells": [
  {
   "cell_type": "code",
   "execution_count": 1,
   "metadata": {},
   "outputs": [],
   "source": [
    "import os, sys\n",
    "import numpy as np \n",
    "import pandas as pd \n",
    "from tqdm import tqdm\n",
    "import json \n",
    "import datetime\n",
    "# Add parent dir to sys.path\n",
    "sys.path.append(os.path.abspath(\"..\"))\n",
    "from utils.Predictor import Predictor\n",
    "from utils.Evaluations import Evaluations\n",
    "from utils.util import get_organism_info"
   ]
  },
  {
   "cell_type": "markdown",
   "metadata": {},
   "source": [
    "## Predict Boundaries"
   ]
  },
  {
   "cell_type": "code",
   "execution_count": null,
   "metadata": {},
   "outputs": [
    {
     "name": "stderr",
     "output_type": "stream",
     "text": [
      "  0%|          | 0/24 [00:00<?, ?it/s]"
     ]
    },
    {
     "name": "stdout",
     "output_type": "stream",
     "text": [
      "--- start predicting ---\n"
     ]
    },
    {
     "name": "stderr",
     "output_type": "stream",
     "text": [
      "Processing NC_008253.1|1|NC_008253.1:   0%|          | 0/1 [00:00<?, ?it/s]"
     ]
    },
    {
     "name": "stdout",
     "output_type": "stream",
     "text": [
      "\n",
      "-------- sequence 1-------- \n",
      "\n",
      "\n",
      " Preprocessing DNA segment \n",
      "\n"
     ]
    },
    {
     "name": "stderr",
     "output_type": "stream",
     "text": [
      "100%|██████████| 494/494 [00:00<00:00, 498073.60it/s]\n"
     ]
    },
    {
     "name": "stdout",
     "output_type": "stream",
     "text": [
      "\n",
      " Get DNA segment probability  \n",
      "\n",
      "positive ratio:  0.2935222672064777\n",
      "out of distribution:  False\n"
     ]
    },
    {
     "name": "stderr",
     "output_type": "stream",
     "text": [
      "100%|██████████| 494/494 [00:00<00:00, 2561169.56it/s]"
     ]
    },
    {
     "name": "stdout",
     "output_type": "stream",
     "text": [
      "\n",
      " Fine tune GEI borders  \n",
      "\n"
     ]
    },
    {
     "name": "stderr",
     "output_type": "stream",
     "text": [
      "\n",
      "100%|██████████| 32/32 [00:05<00:00,  6.15it/s]\n",
      "Processing NC_008253.1|1|NC_008253.1: 100%|██████████| 1/1 [00:21<00:00, 21.40s/it]\n",
      "  4%|▍         | 1/24 [00:21<08:16, 21.57s/it]"
     ]
    },
    {
     "name": "stdout",
     "output_type": "stream",
     "text": [
      "--- finished predicting ---\n",
      "--- 21.440386056900024 seconds ---\n",
      "--- start predicting ---\n"
     ]
    },
    {
     "name": "stderr",
     "output_type": "stream",
     "text": [
      "Processing NC_010473.1|1|NC_010473.1:   0%|          | 0/1 [00:00<?, ?it/s]"
     ]
    },
    {
     "name": "stdout",
     "output_type": "stream",
     "text": [
      "\n",
      "-------- sequence 1-------- \n",
      "\n",
      "\n",
      " Preprocessing DNA segment \n",
      "\n"
     ]
    },
    {
     "name": "stderr",
     "output_type": "stream",
     "text": [
      "100%|██████████| 469/469 [00:00<00:00, 896594.61it/s]\n"
     ]
    },
    {
     "name": "stdout",
     "output_type": "stream",
     "text": [
      "\n",
      " Get DNA segment probability  \n",
      "\n",
      "positive ratio:  0.24520255863539445\n",
      "out of distribution:  False\n"
     ]
    },
    {
     "name": "stderr",
     "output_type": "stream",
     "text": [
      "100%|██████████| 469/469 [00:00<00:00, 2846785.20it/s]"
     ]
    },
    {
     "name": "stdout",
     "output_type": "stream",
     "text": [
      "\n",
      " Fine tune GEI borders  \n",
      "\n"
     ]
    },
    {
     "name": "stderr",
     "output_type": "stream",
     "text": [
      "\n",
      "100%|██████████| 36/36 [00:05<00:00,  6.07it/s]\n",
      "Processing NC_010473.1|1|NC_010473.1: 100%|██████████| 1/1 [00:19<00:00, 19.27s/it]\n",
      "  8%|▊         | 2/24 [00:40<07:25, 20.25s/it]"
     ]
    },
    {
     "name": "stdout",
     "output_type": "stream",
     "text": [
      "--- finished predicting ---\n",
      "--- 19.281096935272217 seconds ---\n",
      "--- start predicting ---\n"
     ]
    },
    {
     "name": "stderr",
     "output_type": "stream",
     "text": [
      "Processing NC_007958.1|1|NC_007958.1:   0%|          | 0/1 [00:00<?, ?it/s]"
     ]
    },
    {
     "name": "stdout",
     "output_type": "stream",
     "text": [
      "\n",
      "-------- sequence 1-------- \n",
      "\n",
      "\n",
      " Preprocessing DNA segment \n",
      "\n"
     ]
    },
    {
     "name": "stderr",
     "output_type": "stream",
     "text": [
      "100%|██████████| 490/490 [00:00<00:00, 690362.43it/s]\n"
     ]
    },
    {
     "name": "stdout",
     "output_type": "stream",
     "text": [
      "\n",
      " Get DNA segment probability  \n",
      "\n",
      "positive ratio:  0.6918367346938775\n",
      "out of distribution:  False\n"
     ]
    },
    {
     "name": "stderr",
     "output_type": "stream",
     "text": [
      "100%|██████████| 490/490 [00:00<00:00, 1906501.82it/s]"
     ]
    },
    {
     "name": "stdout",
     "output_type": "stream",
     "text": [
      "\n",
      " Fine tune GEI borders  \n",
      "\n"
     ]
    },
    {
     "name": "stderr",
     "output_type": "stream",
     "text": [
      "\n",
      "100%|██████████| 94/94 [00:23<00:00,  3.96it/s]\n",
      "Processing NC_007958.1|1|NC_007958.1: 100%|██████████| 1/1 [00:43<00:00, 43.30s/it]\n",
      " 12%|█▎        | 3/24 [01:24<10:46, 30.80s/it]"
     ]
    },
    {
     "name": "stdout",
     "output_type": "stream",
     "text": [
      "--- finished predicting ---\n",
      "--- 43.31108498573303 seconds ---\n",
      "--- start predicting ---\n"
     ]
    },
    {
     "name": "stderr",
     "output_type": "stream",
     "text": [
      "Processing NC_009665.1|1|NC_009665.1:   0%|          | 0/1 [00:00<?, ?it/s]"
     ]
    },
    {
     "name": "stdout",
     "output_type": "stream",
     "text": [
      "\n",
      "-------- sequence 1-------- \n",
      "\n",
      "\n",
      " Preprocessing DNA segment \n",
      "\n"
     ]
    },
    {
     "name": "stderr",
     "output_type": "stream",
     "text": [
      "100%|██████████| 523/523 [00:00<00:00, 699273.51it/s]\n"
     ]
    },
    {
     "name": "stdout",
     "output_type": "stream",
     "text": [
      "\n",
      " Get DNA segment probability  \n",
      "\n",
      "positive ratio:  0.7284894837476099\n",
      "out of distribution:  False\n"
     ]
    },
    {
     "name": "stderr",
     "output_type": "stream",
     "text": [
      "100%|██████████| 523/523 [00:00<00:00, 1828017.49it/s]"
     ]
    },
    {
     "name": "stdout",
     "output_type": "stream",
     "text": [
      "\n",
      " Fine tune GEI borders  \n",
      "\n"
     ]
    },
    {
     "name": "stderr",
     "output_type": "stream",
     "text": [
      "\n",
      "100%|██████████| 105/105 [00:26<00:00,  4.01it/s]\n",
      "Processing NC_009665.1|1|NC_009665.1: 100%|██████████| 1/1 [00:49<00:00, 49.32s/it]\n",
      " 17%|█▋        | 4/24 [02:13<12:42, 38.13s/it]"
     ]
    },
    {
     "name": "stdout",
     "output_type": "stream",
     "text": [
      "--- finished predicting ---\n",
      "--- 49.33301901817322 seconds ---\n",
      "--- start predicting ---\n"
     ]
    },
    {
     "name": "stderr",
     "output_type": "stream",
     "text": [
      "Processing NC_010334.1|1|NC_010334.1:   0%|          | 0/1 [00:00<?, ?it/s]"
     ]
    },
    {
     "name": "stdout",
     "output_type": "stream",
     "text": [
      "\n",
      "-------- sequence 1-------- \n",
      "\n",
      "\n",
      " Preprocessing DNA segment \n",
      "\n"
     ]
    },
    {
     "name": "stderr",
     "output_type": "stream",
     "text": [
      "100%|██████████| 523/523 [00:00<00:00, 770232.09it/s]\n"
     ]
    },
    {
     "name": "stdout",
     "output_type": "stream",
     "text": [
      "\n",
      " Get DNA segment probability  \n",
      "\n",
      "positive ratio:  0.6787762906309751\n",
      "out of distribution:  False\n"
     ]
    },
    {
     "name": "stderr",
     "output_type": "stream",
     "text": [
      "100%|██████████| 523/523 [00:00<00:00, 1944699.46it/s]"
     ]
    },
    {
     "name": "stdout",
     "output_type": "stream",
     "text": [
      "\n",
      " Fine tune GEI borders  \n",
      "\n"
     ]
    },
    {
     "name": "stderr",
     "output_type": "stream",
     "text": [
      "\n",
      "100%|██████████| 107/107 [00:29<00:00,  3.60it/s]\n",
      "Processing NC_010334.1|1|NC_010334.1: 100%|██████████| 1/1 [00:51<00:00, 51.40s/it]\n",
      " 21%|██        | 5/24 [03:05<13:35, 42.93s/it]"
     ]
    },
    {
     "name": "stdout",
     "output_type": "stream",
     "text": [
      "--- finished predicting ---\n",
      "--- 51.409305810928345 seconds ---\n",
      "--- start predicting ---\n"
     ]
    },
    {
     "name": "stderr",
     "output_type": "stream",
     "text": [
      "Processing NC_007432.1|1|NC_007432.1:   0%|          | 0/1 [00:00<?, ?it/s]"
     ]
    },
    {
     "name": "stdout",
     "output_type": "stream",
     "text": [
      "\n",
      "-------- sequence 1-------- \n",
      "\n",
      "\n",
      " Preprocessing DNA segment \n",
      "\n"
     ]
    },
    {
     "name": "stderr",
     "output_type": "stream",
     "text": [
      "100%|██████████| 213/213 [00:00<00:00, 762926.35it/s]\n"
     ]
    },
    {
     "name": "stdout",
     "output_type": "stream",
     "text": [
      "\n",
      " Get DNA segment probability  \n",
      "\n",
      "positive ratio:  0.4507042253521127\n",
      "out of distribution:  False\n"
     ]
    },
    {
     "name": "stderr",
     "output_type": "stream",
     "text": [
      "100%|██████████| 213/213 [00:00<00:00, 1900822.88it/s]"
     ]
    },
    {
     "name": "stdout",
     "output_type": "stream",
     "text": [
      "\n",
      " Fine tune GEI borders  \n",
      "\n"
     ]
    },
    {
     "name": "stderr",
     "output_type": "stream",
     "text": [
      "\n",
      "100%|██████████| 29/29 [00:05<00:00,  5.35it/s]\n",
      "Processing NC_007432.1|1|NC_007432.1: 100%|██████████| 1/1 [00:11<00:00, 11.97s/it]\n",
      " 25%|██▌       | 6/24 [03:17<09:43, 32.42s/it]"
     ]
    },
    {
     "name": "stdout",
     "output_type": "stream",
     "text": [
      "--- finished predicting ---\n",
      "--- 11.980782985687256 seconds ---\n",
      "--- start predicting ---\n"
     ]
    },
    {
     "name": "stderr",
     "output_type": "stream",
     "text": [
      "Processing NC_009512.1|1|NC_009512.1:   0%|          | 0/1 [00:00<?, ?it/s]"
     ]
    },
    {
     "name": "stdout",
     "output_type": "stream",
     "text": [
      "\n",
      "-------- sequence 1-------- \n",
      "\n",
      "\n",
      " Preprocessing DNA segment \n",
      "\n"
     ]
    },
    {
     "name": "stderr",
     "output_type": "stream",
     "text": [
      "100%|██████████| 596/596 [00:00<00:00, 739587.33it/s]\n"
     ]
    },
    {
     "name": "stdout",
     "output_type": "stream",
     "text": [
      "\n",
      " Get DNA segment probability  \n",
      "\n",
      "positive ratio:  0.2902684563758389\n",
      "out of distribution:  False\n"
     ]
    },
    {
     "name": "stderr",
     "output_type": "stream",
     "text": [
      "100%|██████████| 596/596 [00:00<00:00, 3105348.05it/s]"
     ]
    },
    {
     "name": "stdout",
     "output_type": "stream",
     "text": [
      "\n",
      " Fine tune GEI borders  \n",
      "\n"
     ]
    },
    {
     "name": "stderr",
     "output_type": "stream",
     "text": [
      "\n",
      "100%|██████████| 50/50 [00:08<00:00,  6.03it/s]\n",
      "Processing NC_009512.1|1|NC_009512.1: 100%|██████████| 1/1 [00:24<00:00, 24.72s/it]\n",
      " 29%|██▉       | 7/24 [03:41<08:28, 29.92s/it]"
     ]
    },
    {
     "name": "stdout",
     "output_type": "stream",
     "text": [
      "--- finished predicting ---\n",
      "--- 24.726610898971558 seconds ---\n",
      "--- start predicting ---\n"
     ]
    },
    {
     "name": "stderr",
     "output_type": "stream",
     "text": [
      "Processing NC_009783.1|1|NC_009783.1:   0%|          | 0/1 [00:00<?, ?it/s]"
     ]
    },
    {
     "name": "stdout",
     "output_type": "stream",
     "text": [
      "\n",
      "-------- sequence 1-------- \n",
      "\n",
      "\n",
      " Preprocessing DNA segment \n",
      "\n"
     ]
    },
    {
     "name": "stderr",
     "output_type": "stream",
     "text": [
      "100%|██████████| 377/377 [00:00<00:00, 992002.89it/s]\n"
     ]
    },
    {
     "name": "stdout",
     "output_type": "stream",
     "text": [
      "\n",
      " Get DNA segment probability  \n",
      "\n",
      "positive ratio:  0.35809018567639256\n",
      "out of distribution:  False\n"
     ]
    },
    {
     "name": "stderr",
     "output_type": "stream",
     "text": [
      "100%|██████████| 377/377 [00:00<00:00, 2108336.81it/s]"
     ]
    },
    {
     "name": "stdout",
     "output_type": "stream",
     "text": [
      "\n",
      " Fine tune GEI borders  \n",
      "\n"
     ]
    },
    {
     "name": "stderr",
     "output_type": "stream",
     "text": [
      "\n",
      "100%|██████████| 40/40 [00:07<00:00,  5.15it/s]\n",
      "Processing NC_009783.1|1|NC_009783.1: 100%|██████████| 1/1 [00:19<00:00, 19.90s/it]\n",
      " 33%|███▎      | 8/24 [04:01<07:07, 26.74s/it]"
     ]
    },
    {
     "name": "stdout",
     "output_type": "stream",
     "text": [
      "--- finished predicting ---\n",
      "--- 19.909531831741333 seconds ---\n",
      "--- start predicting ---\n"
     ]
    },
    {
     "name": "stderr",
     "output_type": "stream",
     "text": [
      "Processing NC_010501.1|1|NC_010501.1:   0%|          | 0/1 [00:00<?, ?it/s]"
     ]
    },
    {
     "name": "stdout",
     "output_type": "stream",
     "text": [
      "\n",
      "-------- sequence 1-------- \n",
      "\n",
      "\n",
      " Preprocessing DNA segment \n",
      "\n"
     ]
    },
    {
     "name": "stderr",
     "output_type": "stream",
     "text": [
      "100%|██████████| 578/578 [00:00<00:00, 1070807.29it/s]\n"
     ]
    },
    {
     "name": "stdout",
     "output_type": "stream",
     "text": [
      "\n",
      " Get DNA segment probability  \n",
      "\n",
      "positive ratio:  0.35986159169550175\n",
      "out of distribution:  False\n"
     ]
    },
    {
     "name": "stderr",
     "output_type": "stream",
     "text": [
      "100%|██████████| 578/578 [00:00<00:00, 2579050.76it/s]"
     ]
    },
    {
     "name": "stdout",
     "output_type": "stream",
     "text": [
      "\n",
      " Fine tune GEI borders  \n",
      "\n"
     ]
    },
    {
     "name": "stderr",
     "output_type": "stream",
     "text": [
      "\n",
      "100%|██████████| 66/66 [00:13<00:00,  4.79it/s]\n",
      "Processing NC_010501.1|1|NC_010501.1: 100%|██████████| 1/1 [00:30<00:00, 30.63s/it]\n",
      " 38%|███▊      | 9/24 [04:32<06:59, 27.97s/it]"
     ]
    },
    {
     "name": "stdout",
     "output_type": "stream",
     "text": [
      "--- finished predicting ---\n",
      "--- 30.63654589653015 seconds ---\n",
      "--- start predicting ---\n"
     ]
    },
    {
     "name": "stderr",
     "output_type": "stream",
     "text": [
      "Processing NC_008321.1|1|NC_008321.1:   0%|          | 0/1 [00:00<?, ?it/s]"
     ]
    },
    {
     "name": "stdout",
     "output_type": "stream",
     "text": [
      "\n",
      "-------- sequence 1-------- \n",
      "\n",
      "\n",
      " Preprocessing DNA segment \n",
      "\n"
     ]
    },
    {
     "name": "stderr",
     "output_type": "stream",
     "text": [
      "100%|██████████| 471/471 [00:00<00:00, 967442.30it/s]\n"
     ]
    },
    {
     "name": "stdout",
     "output_type": "stream",
     "text": [
      "\n",
      " Get DNA segment probability  \n",
      "\n",
      "positive ratio:  0.7133757961783439\n",
      "out of distribution:  False\n"
     ]
    },
    {
     "name": "stderr",
     "output_type": "stream",
     "text": [
      "100%|██████████| 471/471 [00:00<00:00, 1890447.07it/s]"
     ]
    },
    {
     "name": "stdout",
     "output_type": "stream",
     "text": [
      "\n",
      " Fine tune GEI borders  \n",
      "\n"
     ]
    },
    {
     "name": "stderr",
     "output_type": "stream",
     "text": [
      "\n",
      "100%|██████████| 92/92 [00:26<00:00,  3.46it/s]\n",
      "Processing NC_008321.1|1|NC_008321.1: 100%|██████████| 1/1 [00:46<00:00, 46.84s/it]\n",
      " 42%|████▏     | 10/24 [05:19<07:53, 33.81s/it]"
     ]
    },
    {
     "name": "stdout",
     "output_type": "stream",
     "text": [
      "--- finished predicting ---\n",
      "--- 46.8461058139801 seconds ---\n",
      "--- start predicting ---\n"
     ]
    },
    {
     "name": "stderr",
     "output_type": "stream",
     "text": [
      "Processing NC_005071.1|1|NC_005071.1:   0%|          | 0/1 [00:00<?, ?it/s]"
     ]
    },
    {
     "name": "stdout",
     "output_type": "stream",
     "text": [
      "\n",
      "-------- sequence 1-------- \n",
      "\n",
      "\n",
      " Preprocessing DNA segment \n",
      "\n"
     ]
    },
    {
     "name": "stderr",
     "output_type": "stream",
     "text": [
      "100%|██████████| 242/242 [00:00<00:00, 375239.03it/s]\n"
     ]
    },
    {
     "name": "stdout",
     "output_type": "stream",
     "text": [
      "\n",
      " Get DNA segment probability  \n",
      "\n",
      "positive ratio:  0.4090909090909091\n",
      "out of distribution:  False\n"
     ]
    },
    {
     "name": "stderr",
     "output_type": "stream",
     "text": [
      "100%|██████████| 242/242 [00:00<00:00, 2084233.20it/s]"
     ]
    },
    {
     "name": "stdout",
     "output_type": "stream",
     "text": [
      "\n",
      " Fine tune GEI borders  \n",
      "\n"
     ]
    },
    {
     "name": "stderr",
     "output_type": "stream",
     "text": [
      "\n",
      "100%|██████████| 33/33 [00:07<00:00,  4.54it/s]\n",
      "Processing NC_005071.1|1|NC_005071.1: 100%|██████████| 1/1 [00:14<00:00, 14.43s/it]\n",
      " 46%|████▌     | 11/24 [05:33<06:02, 27.89s/it]"
     ]
    },
    {
     "name": "stdout",
     "output_type": "stream",
     "text": [
      "--- finished predicting ---\n",
      "--- 14.440725803375244 seconds ---\n",
      "--- start predicting ---\n"
     ]
    },
    {
     "name": "stderr",
     "output_type": "stream",
     "text": [
      "Processing NC_004116.1|1|NC_004116.1:   0%|          | 0/1 [00:00<?, ?it/s]"
     ]
    },
    {
     "name": "stdout",
     "output_type": "stream",
     "text": [
      "\n",
      "-------- sequence 1-------- \n",
      "\n",
      "\n",
      " Preprocessing DNA segment \n",
      "\n"
     ]
    },
    {
     "name": "stderr",
     "output_type": "stream",
     "text": [
      "100%|██████████| 217/217 [00:00<00:00, 1074573.75it/s]\n"
     ]
    },
    {
     "name": "stdout",
     "output_type": "stream",
     "text": [
      "\n",
      " Get DNA segment probability  \n",
      "\n",
      "positive ratio:  0.48847926267281105\n",
      "out of distribution:  False\n"
     ]
    },
    {
     "name": "stderr",
     "output_type": "stream",
     "text": [
      "100%|██████████| 217/217 [00:00<00:00, 1904108.72it/s]"
     ]
    },
    {
     "name": "stdout",
     "output_type": "stream",
     "text": [
      "\n",
      " Fine tune GEI borders  \n",
      "\n"
     ]
    },
    {
     "name": "stderr",
     "output_type": "stream",
     "text": [
      "\n",
      "100%|██████████| 33/33 [00:06<00:00,  5.32it/s]\n",
      "Processing NC_004116.1|1|NC_004116.1: 100%|██████████| 1/1 [00:13<00:00, 13.65s/it]\n",
      " 50%|█████     | 12/24 [05:47<04:42, 23.57s/it]"
     ]
    },
    {
     "name": "stdout",
     "output_type": "stream",
     "text": [
      "--- finished predicting ---\n",
      "--- 13.654690027236938 seconds ---\n",
      "--- start predicting ---\n"
     ]
    },
    {
     "name": "stderr",
     "output_type": "stream",
     "text": [
      "Processing NC_008024.1|1|NC_008024.1:   0%|          | 0/1 [00:00<?, ?it/s]"
     ]
    },
    {
     "name": "stdout",
     "output_type": "stream",
     "text": [
      "\n",
      "-------- sequence 1-------- \n",
      "\n",
      "\n",
      " Preprocessing DNA segment \n",
      "\n"
     ]
    },
    {
     "name": "stderr",
     "output_type": "stream",
     "text": [
      "100%|██████████| 194/194 [00:00<00:00, 881576.36it/s]\n"
     ]
    },
    {
     "name": "stdout",
     "output_type": "stream",
     "text": [
      "\n",
      " Get DNA segment probability  \n",
      "\n",
      "positive ratio:  0.4536082474226804\n",
      "out of distribution:  False\n"
     ]
    },
    {
     "name": "stderr",
     "output_type": "stream",
     "text": [
      "100%|██████████| 194/194 [00:00<00:00, 1684668.69it/s]"
     ]
    },
    {
     "name": "stdout",
     "output_type": "stream",
     "text": [
      "\n",
      " Fine tune GEI borders  \n",
      "\n"
     ]
    },
    {
     "name": "stderr",
     "output_type": "stream",
     "text": [
      "\n",
      "100%|██████████| 24/24 [00:05<00:00,  4.64it/s]\n",
      "Processing NC_008024.1|1|NC_008024.1: 100%|██████████| 1/1 [00:11<00:00, 11.51s/it]\n",
      " 54%|█████▍    | 13/24 [05:59<03:39, 19.93s/it]"
     ]
    },
    {
     "name": "stdout",
     "output_type": "stream",
     "text": [
      "--- finished predicting ---\n",
      "--- 11.520473957061768 seconds ---\n",
      "--- start predicting ---\n"
     ]
    },
    {
     "name": "stderr",
     "output_type": "stream",
     "text": [
      "Processing NC_009504.1|1|NC_009504.1:   0%|          | 0/1 [00:00<?, ?it/s]"
     ]
    },
    {
     "name": "stdout",
     "output_type": "stream",
     "text": [
      "\n",
      "-------- sequence 1-------- \n",
      "\n",
      "\n",
      " Preprocessing DNA segment \n",
      "\n"
     ]
    },
    {
     "name": "stderr",
     "output_type": "stream",
     "text": [
      "100%|██████████| 117/117 [00:00<00:00, 807127.58it/s]\n"
     ]
    },
    {
     "name": "stdout",
     "output_type": "stream",
     "text": [
      "\n",
      " Get DNA segment probability  \n",
      "\n",
      "positive ratio:  0.6410256410256411\n",
      "out of distribution:  False\n"
     ]
    },
    {
     "name": "stderr",
     "output_type": "stream",
     "text": [
      "100%|██████████| 117/117 [00:00<00:00, 1185346.78it/s]"
     ]
    },
    {
     "name": "stdout",
     "output_type": "stream",
     "text": [
      "\n",
      " Fine tune GEI borders  \n",
      "\n"
     ]
    },
    {
     "name": "stderr",
     "output_type": "stream",
     "text": [
      "\n",
      "100%|██████████| 23/23 [00:04<00:00,  4.61it/s]\n",
      "Processing NC_009504.1|1|NC_009504.1: 100%|██████████| 1/1 [00:09<00:00,  9.86s/it]\n",
      " 58%|█████▊    | 14/24 [06:08<02:49, 16.90s/it]"
     ]
    },
    {
     "name": "stdout",
     "output_type": "stream",
     "text": [
      "--- finished predicting ---\n",
      "--- 9.860074043273926 seconds ---\n",
      "--- start predicting ---\n"
     ]
    },
    {
     "name": "stderr",
     "output_type": "stream",
     "text": [
      "Processing NC_010515.1|1|NC_010515.1:   0%|          | 0/1 [00:00<?, ?it/s]"
     ]
    },
    {
     "name": "stdout",
     "output_type": "stream",
     "text": [
      "\n",
      "-------- sequence 1-------- \n",
      "\n",
      "\n",
      " Preprocessing DNA segment \n",
      "\n"
     ]
    },
    {
     "name": "stderr",
     "output_type": "stream",
     "text": [
      "100%|██████████| 322/322 [00:00<00:00, 781125.44it/s]\n"
     ]
    },
    {
     "name": "stdout",
     "output_type": "stream",
     "text": [
      "\n",
      " Get DNA segment probability  \n",
      "\n",
      "positive ratio:  0.7608695652173914\n",
      "out of distribution:  False\n"
     ]
    },
    {
     "name": "stderr",
     "output_type": "stream",
     "text": [
      "100%|██████████| 322/322 [00:00<00:00, 1667365.29it/s]"
     ]
    },
    {
     "name": "stdout",
     "output_type": "stream",
     "text": [
      "\n",
      " Fine tune GEI borders  \n",
      "\n"
     ]
    },
    {
     "name": "stderr",
     "output_type": "stream",
     "text": [
      "\n",
      "100%|██████████| 61/61 [00:15<00:00,  3.94it/s]\n",
      "Processing NC_010515.1|1|NC_010515.1: 100%|██████████| 1/1 [00:30<00:00, 30.43s/it]\n",
      " 62%|██████▎   | 15/24 [06:39<03:08, 20.99s/it]"
     ]
    },
    {
     "name": "stdout",
     "output_type": "stream",
     "text": [
      "--- finished predicting ---\n",
      "--- 30.43395495414734 seconds ---\n",
      "--- start predicting ---\n"
     ]
    },
    {
     "name": "stderr",
     "output_type": "stream",
     "text": [
      "Processing NC_010322.1|1|NC_010322.1:   0%|          | 0/1 [00:00<?, ?it/s]"
     ]
    },
    {
     "name": "stdout",
     "output_type": "stream",
     "text": [
      "\n",
      "-------- sequence 1-------- \n",
      "\n",
      "\n",
      " Preprocessing DNA segment \n",
      "\n"
     ]
    },
    {
     "name": "stderr",
     "output_type": "stream",
     "text": [
      "100%|██████████| 608/608 [00:00<00:00, 922291.80it/s]\n"
     ]
    },
    {
     "name": "stdout",
     "output_type": "stream",
     "text": [
      "\n",
      " Get DNA segment probability  \n",
      "\n",
      "positive ratio:  0.2845394736842105\n",
      "out of distribution:  False\n"
     ]
    },
    {
     "name": "stderr",
     "output_type": "stream",
     "text": [
      "100%|██████████| 608/608 [00:00<00:00, 2701416.14it/s]"
     ]
    },
    {
     "name": "stdout",
     "output_type": "stream",
     "text": [
      "\n",
      " Fine tune GEI borders  \n",
      "\n"
     ]
    },
    {
     "name": "stderr",
     "output_type": "stream",
     "text": [
      "\n",
      "100%|██████████| 45/45 [00:09<00:00,  4.96it/s]\n",
      "Processing NC_010322.1|1|NC_010322.1: 100%|██████████| 1/1 [00:25<00:00, 25.14s/it]\n",
      " 67%|██████▋   | 16/24 [07:04<02:58, 22.25s/it]"
     ]
    },
    {
     "name": "stdout",
     "output_type": "stream",
     "text": [
      "--- finished predicting ---\n",
      "--- 25.150710105895996 seconds ---\n",
      "--- start predicting ---\n"
     ]
    },
    {
     "name": "stderr",
     "output_type": "stream",
     "text": [
      "Processing NC_009438.1|1|NC_009438.1:   0%|          | 0/1 [00:00<?, ?it/s]"
     ]
    },
    {
     "name": "stdout",
     "output_type": "stream",
     "text": [
      "\n",
      "-------- sequence 1-------- \n",
      "\n",
      "\n",
      " Preprocessing DNA segment \n",
      "\n"
     ]
    },
    {
     "name": "stderr",
     "output_type": "stream",
     "text": [
      "100%|██████████| 466/466 [00:00<00:00, 954834.23it/s]\n"
     ]
    },
    {
     "name": "stdout",
     "output_type": "stream",
     "text": [
      "\n",
      " Get DNA segment probability  \n",
      "\n",
      "positive ratio:  0.7317596566523605\n",
      "out of distribution:  False\n"
     ]
    },
    {
     "name": "stderr",
     "output_type": "stream",
     "text": [
      "100%|██████████| 466/466 [00:00<00:00, 1886627.09it/s]"
     ]
    },
    {
     "name": "stdout",
     "output_type": "stream",
     "text": [
      "\n",
      " Fine tune GEI borders  \n",
      "\n"
     ]
    },
    {
     "name": "stderr",
     "output_type": "stream",
     "text": [
      "\n",
      "100%|██████████| 92/92 [00:28<00:00,  3.18it/s]\n",
      "Processing NC_009438.1|1|NC_009438.1: 100%|██████████| 1/1 [00:49<00:00, 49.15s/it]\n",
      " 71%|███████   | 17/24 [07:53<03:32, 30.36s/it]"
     ]
    },
    {
     "name": "stdout",
     "output_type": "stream",
     "text": [
      "--- finished predicting ---\n",
      "--- 49.16073417663574 seconds ---\n",
      "--- start predicting ---\n"
     ]
    },
    {
     "name": "stderr",
     "output_type": "stream",
     "text": [
      "Processing NC_004603.1|1|NC_004603.1:   0%|          | 0/1 [00:00<?, ?it/s]"
     ]
    },
    {
     "name": "stdout",
     "output_type": "stream",
     "text": [
      "\n",
      "-------- sequence 1-------- \n",
      "\n",
      "\n",
      " Preprocessing DNA segment \n",
      "\n"
     ]
    },
    {
     "name": "stderr",
     "output_type": "stream",
     "text": [
      "100%|██████████| 329/329 [00:00<00:00, 716844.68it/s]\n"
     ]
    },
    {
     "name": "stdout",
     "output_type": "stream",
     "text": [
      "\n",
      " Get DNA segment probability  \n",
      "\n",
      "positive ratio:  0.3252279635258359\n",
      "out of distribution:  False\n"
     ]
    },
    {
     "name": "stderr",
     "output_type": "stream",
     "text": [
      "100%|██████████| 329/329 [00:00<00:00, 2508956.39it/s]"
     ]
    },
    {
     "name": "stdout",
     "output_type": "stream",
     "text": [
      "\n",
      " Fine tune GEI borders  \n",
      "\n"
     ]
    },
    {
     "name": "stderr",
     "output_type": "stream",
     "text": [
      "\n",
      "100%|██████████| 28/28 [00:06<00:00,  4.11it/s]\n",
      "Processing NC_004603.1|1|NC_004603.1: 100%|██████████| 1/1 [00:16<00:00, 16.41s/it]\n",
      " 75%|███████▌  | 18/24 [08:10<02:37, 26.18s/it]"
     ]
    },
    {
     "name": "stdout",
     "output_type": "stream",
     "text": [
      "--- finished predicting ---\n",
      "--- 16.419966220855713 seconds ---\n",
      "--- start predicting ---\n"
     ]
    },
    {
     "name": "stderr",
     "output_type": "stream",
     "text": [
      "Processing NC_009342.1|1|NC_009342.1:   0%|          | 0/1 [00:00<?, ?it/s]"
     ]
    },
    {
     "name": "stdout",
     "output_type": "stream",
     "text": [
      "\n",
      "-------- sequence 1-------- \n",
      "\n",
      "\n",
      " Preprocessing DNA segment \n",
      "\n"
     ]
    },
    {
     "name": "stderr",
     "output_type": "stream",
     "text": [
      "100%|██████████| 332/332 [00:00<00:00, 849608.86it/s]\n"
     ]
    },
    {
     "name": "stdout",
     "output_type": "stream",
     "text": [
      "\n",
      " Get DNA segment probability  \n",
      "\n",
      "positive ratio:  0.11746987951807229\n",
      "out of distribution:  False\n"
     ]
    },
    {
     "name": "stderr",
     "output_type": "stream",
     "text": [
      "100%|██████████| 332/332 [00:00<00:00, 3014088.59it/s]"
     ]
    },
    {
     "name": "stdout",
     "output_type": "stream",
     "text": [
      "\n",
      " Fine tune GEI borders  \n",
      "\n"
     ]
    },
    {
     "name": "stderr",
     "output_type": "stream",
     "text": [
      "\n",
      "100%|██████████| 13/13 [00:02<00:00,  6.20it/s]\n",
      "Processing NC_009342.1|1|NC_009342.1: 100%|██████████| 1/1 [00:10<00:00, 10.10s/it]\n",
      " 79%|███████▉  | 19/24 [08:20<01:46, 21.36s/it]"
     ]
    },
    {
     "name": "stdout",
     "output_type": "stream",
     "text": [
      "--- finished predicting ---\n",
      "--- 10.108454942703247 seconds ---\n",
      "--- start predicting ---\n"
     ]
    },
    {
     "name": "stderr",
     "output_type": "stream",
     "text": [
      "Processing NC_007606.1|1|NC_007606.1:   0%|          | 0/1 [00:00<?, ?it/s]"
     ]
    },
    {
     "name": "stdout",
     "output_type": "stream",
     "text": [
      "\n",
      "-------- sequence 1-------- \n",
      "\n",
      "\n",
      " Preprocessing DNA segment \n",
      "\n"
     ]
    },
    {
     "name": "stderr",
     "output_type": "stream",
     "text": [
      "100%|██████████| 437/437 [00:00<00:00, 992909.45it/s]\n"
     ]
    },
    {
     "name": "stdout",
     "output_type": "stream",
     "text": [
      "\n",
      " Get DNA segment probability  \n",
      "\n",
      "positive ratio:  0.36384439359267734\n",
      "out of distribution:  False\n"
     ]
    },
    {
     "name": "stderr",
     "output_type": "stream",
     "text": [
      "100%|██████████| 437/437 [00:00<00:00, 2386602.67it/s]"
     ]
    },
    {
     "name": "stdout",
     "output_type": "stream",
     "text": [
      "\n",
      " Fine tune GEI borders  \n",
      "\n"
     ]
    },
    {
     "name": "stderr",
     "output_type": "stream",
     "text": [
      "\n",
      "100%|██████████| 66/66 [00:11<00:00,  5.95it/s]\n",
      "Processing NC_007606.1|1|NC_007606.1: 100%|██████████| 1/1 [00:24<00:00, 24.60s/it]\n",
      " 83%|████████▎ | 20/24 [08:45<01:29, 22.35s/it]"
     ]
    },
    {
     "name": "stdout",
     "output_type": "stream",
     "text": [
      "--- finished predicting ---\n",
      "--- 24.606449365615845 seconds ---\n",
      "--- start predicting ---\n"
     ]
    },
    {
     "name": "stderr",
     "output_type": "stream",
     "text": [
      "Processing NC_004070.1|1|NC_004070.1:   0%|          | 0/1 [00:00<?, ?it/s]"
     ]
    },
    {
     "name": "stdout",
     "output_type": "stream",
     "text": [
      "\n",
      "-------- sequence 1-------- \n",
      "\n",
      "\n",
      " Preprocessing DNA segment \n",
      "\n"
     ]
    },
    {
     "name": "stderr",
     "output_type": "stream",
     "text": [
      "100%|██████████| 191/191 [00:00<00:00, 872671.09it/s]\n"
     ]
    },
    {
     "name": "stdout",
     "output_type": "stream",
     "text": [
      "\n",
      " Get DNA segment probability  \n",
      "\n",
      "positive ratio:  0.42408376963350786\n",
      "out of distribution:  False\n"
     ]
    },
    {
     "name": "stderr",
     "output_type": "stream",
     "text": [
      "100%|██████████| 191/191 [00:00<00:00, 1968334.31it/s]"
     ]
    },
    {
     "name": "stdout",
     "output_type": "stream",
     "text": [
      "\n",
      " Fine tune GEI borders  \n",
      "\n"
     ]
    },
    {
     "name": "stderr",
     "output_type": "stream",
     "text": [
      "\n",
      "100%|██████████| 19/19 [00:03<00:00,  5.03it/s]\n",
      "Processing NC_004070.1|1|NC_004070.1: 100%|██████████| 1/1 [00:09<00:00,  9.59s/it]\n",
      " 88%|████████▊ | 21/24 [08:54<00:55, 18.53s/it]"
     ]
    },
    {
     "name": "stdout",
     "output_type": "stream",
     "text": [
      "--- finished predicting ---\n",
      "--- 9.599333047866821 seconds ---\n",
      "--- start predicting ---\n"
     ]
    },
    {
     "name": "stderr",
     "output_type": "stream",
     "text": [
      "Processing NC_008563.1|1|NC_008563.1:   0%|          | 0/1 [00:00<?, ?it/s]"
     ]
    },
    {
     "name": "stdout",
     "output_type": "stream",
     "text": [
      "\n",
      "-------- sequence 1-------- \n",
      "\n",
      "\n",
      " Preprocessing DNA segment \n",
      "\n"
     ]
    },
    {
     "name": "stderr",
     "output_type": "stream",
     "text": [
      "100%|██████████| 509/509 [00:00<00:00, 1133776.28it/s]\n"
     ]
    },
    {
     "name": "stdout",
     "output_type": "stream",
     "text": [
      "\n",
      " Get DNA segment probability  \n",
      "\n",
      "positive ratio:  0.3005893909626719\n",
      "out of distribution:  False\n"
     ]
    },
    {
     "name": "stderr",
     "output_type": "stream",
     "text": [
      "100%|██████████| 509/509 [00:00<00:00, 2675314.21it/s]"
     ]
    },
    {
     "name": "stdout",
     "output_type": "stream",
     "text": [
      "\n",
      " Fine tune GEI borders  \n",
      "\n"
     ]
    },
    {
     "name": "stderr",
     "output_type": "stream",
     "text": [
      "\n",
      "100%|██████████| 41/41 [00:04<00:00,  8.56it/s]\n",
      "Processing NC_008563.1|1|NC_008563.1: 100%|██████████| 1/1 [00:21<00:00, 21.11s/it]\n",
      " 92%|█████████▏| 22/24 [09:15<00:38, 19.32s/it]"
     ]
    },
    {
     "name": "stdout",
     "output_type": "stream",
     "text": [
      "--- finished predicting ---\n",
      "--- 21.119904041290283 seconds ---\n",
      "--- start predicting ---\n"
     ]
    },
    {
     "name": "stderr",
     "output_type": "stream",
     "text": [
      "Processing NC_009708.1|1|NC_009708.1:   0%|          | 0/1 [00:00<?, ?it/s]"
     ]
    },
    {
     "name": "stdout",
     "output_type": "stream",
     "text": [
      "\n",
      "-------- sequence 1-------- \n",
      "\n",
      "\n",
      " Preprocessing DNA segment \n",
      "\n"
     ]
    },
    {
     "name": "stderr",
     "output_type": "stream",
     "text": [
      "100%|██████████| 473/473 [00:00<00:00, 1060912.19it/s]\n"
     ]
    },
    {
     "name": "stdout",
     "output_type": "stream",
     "text": [
      "\n",
      " Get DNA segment probability  \n",
      "\n",
      "positive ratio:  0.492600422832981\n",
      "out of distribution:  False\n"
     ]
    },
    {
     "name": "stderr",
     "output_type": "stream",
     "text": [
      "100%|██████████| 473/473 [00:00<00:00, 2239171.32it/s]"
     ]
    },
    {
     "name": "stdout",
     "output_type": "stream",
     "text": [
      "\n",
      " Fine tune GEI borders  \n",
      "\n"
     ]
    },
    {
     "name": "stderr",
     "output_type": "stream",
     "text": [
      "\n",
      "100%|██████████| 73/73 [00:14<00:00,  5.15it/s]\n",
      "Processing NC_009708.1|1|NC_009708.1: 100%|██████████| 1/1 [00:31<00:00, 31.30s/it]\n",
      " 96%|█████████▌| 23/24 [09:47<00:22, 22.93s/it]"
     ]
    },
    {
     "name": "stdout",
     "output_type": "stream",
     "text": [
      "--- finished predicting ---\n",
      "--- 31.309992790222168 seconds ---\n",
      "--- start predicting ---\n"
     ]
    },
    {
     "name": "stderr",
     "output_type": "stream",
     "text": [
      "Processing NC_010380.1|1|NC_010380.1:   0%|          | 0/1 [00:00<?, ?it/s]"
     ]
    },
    {
     "name": "stdout",
     "output_type": "stream",
     "text": [
      "\n",
      "-------- sequence 1-------- \n",
      "\n",
      "\n",
      " Preprocessing DNA segment \n",
      "\n"
     ]
    },
    {
     "name": "stderr",
     "output_type": "stream",
     "text": [
      "100%|██████████| 225/225 [00:00<00:00, 945609.62it/s]\n"
     ]
    },
    {
     "name": "stdout",
     "output_type": "stream",
     "text": [
      "\n",
      " Get DNA segment probability  \n",
      "\n",
      "positive ratio:  0.7955555555555556\n",
      "out of distribution:  False\n"
     ]
    },
    {
     "name": "stderr",
     "output_type": "stream",
     "text": [
      "100%|██████████| 225/225 [00:00<00:00, 1629910.88it/s]"
     ]
    },
    {
     "name": "stdout",
     "output_type": "stream",
     "text": [
      "\n",
      " Fine tune GEI borders  \n",
      "\n"
     ]
    },
    {
     "name": "stderr",
     "output_type": "stream",
     "text": [
      "\n",
      "100%|██████████| 39/39 [00:11<00:00,  3.50it/s]\n",
      "Processing NC_010380.1|1|NC_010380.1: 100%|██████████| 1/1 [00:21<00:00, 21.13s/it]\n",
      "100%|██████████| 24/24 [10:08<00:00, 25.35s/it]"
     ]
    },
    {
     "name": "stdout",
     "output_type": "stream",
     "text": [
      "--- finished predicting ---\n",
      "--- 21.13872790336609 seconds ---\n"
     ]
    },
    {
     "name": "stderr",
     "output_type": "stream",
     "text": [
      "\n"
     ]
    }
   ],
   "source": [
    "#folder containing genomes of interest \n",
    "# (\"../dataset/genomes/benbow_test\",\"../dataset/genomes/literature\" )\n",
    "genome_path = \"../dataset/genomes/benbow_test\" \n",
    "files = [f for f in os.listdir(genome_path) if os.path.isfile(os.path.join(genome_path, f))]\n",
    "\n",
    "# path to load the saved model: ../utils/models/\n",
    "model_file = \"fine_tuned_model.pkl\" \n",
    "\n",
    "# path to save the predictions\n",
    "output_path = \"../outputs\"\n",
    "output_path = os.path.join(output_path, genome_path.split('/')[-1], model_file.split('.')[0])\n",
    "\n",
    "# parameters for data representation\n",
    "data_rep_params = {\n",
    "                'representation':'RCKmer',\n",
    "                'representation_params':{'kmer':7}\n",
    "            }\n",
    "\n",
    "if not os.path.exists(output_path):\n",
    "    os.makedirs(output_path)\n",
    "\n",
    "#run the following code only if the predictions do not exist for the specified genomes and model\n",
    "for file in tqdm(files):\n",
    "    #accept fasta file only\n",
    "    if file.endswith('.fasta'):\n",
    "        filename = os.path.join(genome_path,file)\n",
    "\n",
    "        #create a folder for each genome\n",
    "        output_dest = os.path.join(output_path, file.split('.')[0])\n",
    "        if not os.path.exists(output_dest):\n",
    "            os.mkdir(output_dest)\n",
    "\n",
    "            #initialize the predicor\n",
    "            seq = Predictor(filename, output_file_path=output_dest, model_file=model_file)\n",
    "            \n",
    "            #update the representation according to the trained model\n",
    "            params = data_rep_params\n",
    "\n",
    "            seq.change_representation_parameters(params)\n",
    "            #seq.change_upper_threshold(0.9)\n",
    "\n",
    "            #run the predictor\n",
    "            pred = seq.predict()\n",
    "            \n",
    "            #save predictions to excel file\n",
    "            seq.predictions_to_excel(pred)\n",
    "        else:\n",
    "            print(\"Predictions for {} already exist\".format(file))\n",
    "    else:\n",
    "        print(\"The code only accepts fasta file!\")"
   ]
  },
  {
   "cell_type": "code",
   "execution_count": 3,
   "metadata": {},
   "outputs": [],
   "source": [
    "#read predictions for each genome, then combine them into a file\n",
    "results = pd.DataFrame()\n",
    "results_dest = '{}/{}.xlsx'.format(output_path, model_file.split('.')[0])\n",
    "\n",
    "for dir in os.listdir(output_path):\n",
    "    child_dirs = os.path.join(output_path,dir)\n",
    "    for file in os.listdir(child_dirs):\n",
    "        #if 'out' not in file:\n",
    "            res = pd.read_excel(os.path.join(child_dirs,file))\n",
    "            res = res.drop(res.columns[0], axis=1)\n",
    "            res = res.assign(Genome=dir)\n",
    "            results = pd.concat([results,res])\n",
    "\n",
    "results = results.rename(columns={'accession':'Accession','start':'Start','end':'End'})\n",
    "results = results[results['probability']>0.5]\n",
    "results['Accession'] = results.apply(lambda x: x['Accession'].split('|')[0],axis=1)\n",
    "results.to_excel(results_dest, index=False)"
   ]
  },
  {
   "cell_type": "markdown",
   "metadata": {},
   "source": [
    "Results:\n",
    "- benbow_test: ../outputs/benbow_test/fine_tuned_model.xlsx\n",
    "- literature: ../outputs/literature/fine_tuned_model.xlsx\n",
    "\n",
    "copy the above results to the folder outputs/literature_predictions for evaluation and rename them as:\n",
    "- benbow_test: ../outputs/literature_prediction/fine_tuned_model_test.xlsx\n",
    "- literature: ../outputs/literature_prediction/fine_tuned_model_literature.xlsx"
   ]
  },
  {
   "cell_type": "markdown",
   "metadata": {},
   "source": [
    "## Evaluate Boundaries Prediction"
   ]
  },
  {
   "cell_type": "code",
   "execution_count": null,
   "metadata": {},
   "outputs": [
    {
     "name": "stdout",
     "output_type": "stream",
     "text": [
      "evaluation of literature data\n",
      "---------------\n",
      "alien_hunter\n",
      "{'NC_004431.1': [{'TP': 552951}, {'FP': 25986}, {'TN': 497212}, {'FN': 243868}, {'Precision': 0.9551142870467771}, {'Recall': 0.6939480609774616}, {'F-Score': 0.8038503920753389}, {'Accuracy': 0.7955677843542924}, {'MCC': 0.6350963622480542}], 'NC_002695.1': [{'TP': 534686}, {'FP': 27825}, {'TN': 486507}, {'FN': 347229}, {'Precision': 0.9505343006625648}, {'Recall': 0.6062783828373483}, {'F-Score': 0.7403439151607628}, {'Accuracy': 0.7313842035112699}, {'MCC': 0.5430443547116833}], 'NC_003198.1': [{'TP': 450504}, {'FP': 32873}, {'TN': 515842}, {'FN': 183190}, {'Precision': 0.9319930406287432}, {'Recall': 0.7109172565938765}, {'F-Score': 0.8065807813469331}, {'Accuracy': 0.8172688130756786}, {'MCC': 0.6604016515537388}], 'NC_003923.1': [{'TP': 5000}, {'FP': 31830}, {'TN': 240519}, {'FN': 212639}, {'Precision': 0.13575889220743959}, {'Recall': 0.022973823625361264}, {'F-Score': 0.03929751757581473}, {'Accuracy': 0.5010714548111382}, {'MCC': -0.1769551456656113}], 'NC_004070.1': [{'TP': 154120}, {'FP': 61252}, {'TN': 134155}, {'FN': 79880}, {'Precision': 0.7155990565161674}, {'Recall': 0.6586324786324786}, {'F-Score': 0.6859350382311314}, {'Accuracy': 0.6713327915008372}, {'MCC': 0.3437786650984156}], 'NC_004603.1': [{'TP': 218568}, {'FP': 44970}, {'TN': 92782}, {'FN': 81171}, {'Precision': 0.8293604717346265}, {'Recall': 0.7291943991272407}, {'F-Score': 0.776058670955853}, {'Accuracy': 0.7116717829623924}, {'MCC': 0.3822132861929601}]}\n",
      "---------------\n",
      "mcc =  0.3979298623565401\n",
      "f-score =  0.6420110525576389\n",
      "accuracy =  0.704716138369268\n",
      "precision =  0.7530600081327198\n",
      "recall =  0.5703240669656278\n",
      "---------------\n",
      "islander\n",
      "{'NC_004431.1': [{'TP': 371067}, {'FP': 0}, {'TN': 523198}, {'FN': 425752}, {'Precision': 1.0}, {'Recall': 0.4656854316977883}, {'F-Score': 0.6354507203614052}, {'Accuracy': 0.6774647599235465}, {'MCC': 0.5067079269401703}], 'NC_002695.1': [{'TP': 235201}, {'FP': 0}, {'TN': 514332}, {'FN': 646714}, {'Precision': 1.0}, {'Recall': 0.2666935022082627}, {'F-Score': 0.421086082376405}, {'Accuracy': 0.5368197747246727}, {'MCC': 0.34371879194997146}], 'NC_003198.1': [{'TP': 144489}, {'FP': 0}, {'TN': 548715}, {'FN': 489205}, {'Precision': 1.0}, {'Recall': 0.22801068023367746}, {'F-Score': 0.37134966967924}, {'Accuracy': 0.5862641437945754}, {'MCC': 0.3471914895321036}], 'NC_003923.1': [{'TP': 14435}, {'FP': 0}, {'TN': 272349}, {'FN': 203204}, {'Precision': 1.0}, {'Recall': 0.06632542880641797}, {'F-Score': 0.12439997586976569}, {'Accuracy': 0.5852878029666032}, {'MCC': 0.19489624098749672}], 'NC_004070.1': [{'TP': 38141}, {'FP': 0}, {'TN': 195407}, {'FN': 195859}, {'Precision': 1.0}, {'Recall': 0.1629957264957265}, {'F-Score': 0.28030322516636597}, {'Accuracy': 0.5438849389972683}, {'MCC': 0.2853133626978573}], 'NC_004603.1': [{'TP': 50615}, {'FP': 0}, {'TN': 137752}, {'FN': 249124}, {'Precision': 1.0}, {'Recall': 0.16886357797950885}, {'F-Score': 0.28893633296608573}, {'Accuracy': 0.4305620001325742}, {'MCC': 0.24520597898537114}]}\n",
      "---------------\n",
      "mcc =  0.3205056318488284\n",
      "f-score =  0.3535876677365446\n",
      "accuracy =  0.56004723675654\n",
      "precision =  1.0\n",
      "recall =  0.22642905790356363\n",
      "---------------\n",
      "islandpath_dimob\n",
      "{'NC_004431.1': [{'TP': 561480}, {'FP': 3651}, {'TN': 519547}, {'FN': 235339}, {'Precision': 0.9935395510067577}, {'Recall': 0.7046518720060642}, {'F-Score': 0.8245236609273469}, {'Accuracy': 0.8189493014105121}, {'MCC': 0.6896836620528958}], 'NC_002695.1': [{'TP': 481419}, {'FP': 0}, {'TN': 514332}, {'FN': 400496}, {'Precision': 1.0}, {'Recall': 0.5458791380121667}, {'F-Score': 0.7062377964607351}, {'Accuracy': 0.713162499185316}, {'MCC': 0.5539879228354354}], 'NC_003198.1': [{'TP': 338654}, {'FP': 2625}, {'TN': 546090}, {'FN': 295040}, {'Precision': 0.9923083459574131}, {'Recall': 0.5344125082453045}, {'F-Score': 0.6946941094779034}, {'Accuracy': 0.7482554682855087}, {'MCC': 0.5829056996617825}], 'NC_003923.1': [{'TP': 93912}, {'FP': 0}, {'TN': 272349}, {'FN': 123727}, {'Precision': 1.0}, {'Recall': 0.4315035448609854}, {'F-Score': 0.6028675882921255}, {'Accuracy': 0.7474897344424761}, {'MCC': 0.5447105825187222}], 'NC_004070.1': [{'TP': 80827}, {'FP': 0}, {'TN': 195407}, {'FN': 153173}, {'Precision': 1.0}, {'Recall': 0.3454145299145299}, {'F-Score': 0.5134693021881859}, {'Accuracy': 0.643291795429511}, {'MCC': 0.44003693091054813}], 'NC_004603.1': [{'TP': 93349}, {'FP': 0}, {'TN': 137752}, {'FN': 206390}, {'Precision': 1.0}, {'Recall': 0.31143428115794075}, {'F-Score': 0.4749521735591013}, {'Accuracy': 0.5282417238297473}, {'MCC': 0.3530720387216351}]}\n",
      "---------------\n",
      "mcc =  0.5273994727835033\n",
      "f-score =  0.6361241051508997\n",
      "accuracy =  0.6998984204305119\n",
      "precision =  0.9976413161606952\n",
      "recall =  0.47888264569949857\n",
      "---------------\n",
      "islandviewer\n",
      "{'NC_004431.1': [{'TP': 703574}, {'FP': 3651}, {'TN': 519547}, {'FN': 93245}, {'Precision': 0.9948375693732546}, {'Recall': 0.8829784430341144}, {'F-Score': 0.9355763528194654}, {'Accuracy': 0.9265948847628478}, {'MCC': 0.8591752155235518}], 'NC_002695.1': [{'TP': 738005}, {'FP': 0}, {'TN': 514332}, {'FN': 143910}, {'Precision': 1.0}, {'Recall': 0.8368210088273813}, {'F-Score': 0.9111622796187466}, {'Accuracy': 0.8969308438979636}, {'MCC': 0.8086214646484146}], 'NC_003198.1': [{'TP': 417896}, {'FP': 2625}, {'TN': 546090}, {'FN': 215798}, {'Precision': 0.9937577433707234}, {'Recall': 0.6594602442188185}, {'F-Score': 0.7928098158345309}, {'Accuracy': 0.8152728878078567}, {'MCC': 0.6820252425447091}], 'NC_003923.1': [{'TP': 100293}, {'FP': 0}, {'TN': 272349}, {'FN': 117346}, {'Precision': 1.0}, {'Recall': 0.46082273857167144}, {'F-Score': 0.6309084961564108}, {'Accuracy': 0.7605125023469963}, {'MCC': 0.5675020386029594}], 'NC_004070.1': [{'TP': 124735}, {'FP': 0}, {'TN': 195407}, {'FN': 109265}, {'Precision': 1.0}, {'Recall': 0.5330555555555555}, {'F-Score': 0.6954158362022106}, {'Accuracy': 0.7455444368629296}, {'MCC': 0.5847093301262395}], 'NC_004603.1': [{'TP': 192307}, {'FP': 0}, {'TN': 137752}, {'FN': 107432}, {'Precision': 1.0}, {'Recall': 0.6415815092463777}, {'F-Score': 0.7816626900736923}, {'Accuracy': 0.7544360912567344}, {'MCC': 0.6003835894169518}]}\n",
      "---------------\n",
      "mcc =  0.683736146810471\n",
      "f-score =  0.7912559117841761\n",
      "accuracy =  0.8165486078225549\n",
      "precision =  0.9980992187906631\n",
      "recall =  0.6691199165756533\n",
      "---------------\n",
      "sigi_hmm\n",
      "{'NC_004431.1': [{'TP': 145124}, {'FP': 0}, {'TN': 523198}, {'FN': 651695}, {'Precision': 1.0}, {'Recall': 0.18212919119649507}, {'F-Score': 0.30813754123126347}, {'Accuracy': 0.5062980249496787}, {'MCC': 0.2847892939722333}], 'NC_002695.1': [{'TP': 243675}, {'FP': 0}, {'TN': 514332}, {'FN': 638240}, {'Precision': 1.0}, {'Recall': 0.2763021379611414}, {'F-Score': 0.43297292975239654}, {'Accuracy': 0.5428889014622771}, {'MCC': 0.35113964281345084}], 'NC_003198.1': [{'TP': 145552}, {'FP': 0}, {'TN': 548715}, {'FN': 488142}, {'Precision': 1.0}, {'Recall': 0.22968814601369114}, {'F-Score': 0.3735713754064826}, {'Accuracy': 0.5871631558961409}, {'MCC': 0.34864486681560336}], 'NC_003923.1': [{'TP': 0}, {'FP': 0}, {'TN': 272349}, {'FN': 217639}, {'Precision': 1}, {'Recall': 0.0}, {'F-Score': 0.0}, {'Accuracy': 0.5558278978260692}, {'MCC': 0}], 'NC_004070.1': [{'TP': 14707}, {'FP': 0}, {'TN': 195407}, {'FN': 219293}, {'Precision': 1.0}, {'Recall': 0.06285042735042735}, {'F-Score': 0.1182676804432525}, {'Accuracy': 0.4893120046948466}, {'MCC': 0.17209060383360616}], 'NC_004603.1': [{'TP': 143330}, {'FP': 0}, {'TN': 137752}, {'FN': 156409}, {'Precision': 1.0}, {'Recall': 0.4781826856031414}, {'F-Score': 0.6469872638347526}, {'Accuracy': 0.6424863597193999}, {'MCC': 0.4732093676050058}]}\n",
      "---------------\n",
      "mcc =  0.2716456291733166\n",
      "f-score =  0.3133227984446913\n",
      "accuracy =  0.5539960574247355\n",
      "precision =  1.0\n",
      "recall =  0.20485876468748274\n",
      "---------------\n",
      "islandpick\n",
      "{'NC_004431.1': [{'TP': 230936}, {'FP': 0}, {'TN': 523198}, {'FN': 565883}, {'Precision': 1.0}, {'Recall': 0.28982240634322226}, {'F-Score': 0.44939893262499336}, {'Accuracy': 0.57130627863126}, {'MCC': 0.37313752439969505}], 'NC_002695.1': [{'TP': 277805}, {'FP': 0}, {'TN': 514332}, {'FN': 604110}, {'Precision': 1.0}, {'Recall': 0.3150020126656197}, {'F-Score': 0.4790897802917946}, {'Accuracy': 0.5673330005364381}, {'MCC': 0.38060255847688457}], 'NC_003198.1': [{'TP': 91838}, {'FP': 0}, {'TN': 548715}, {'FN': 541856}, {'Precision': 1.0}, {'Recall': 0.1449248375398852}, {'F-Score': 0.2531604395119719}, {'Accuracy': 0.5417355585080966}, {'MCC': 0.27003363018644605}], 'NC_003923.1': [{'TP': 0}, {'FP': 0}, {'TN': 272349}, {'FN': 217639}, {'Precision': 1}, {'Recall': 0.0}, {'F-Score': 0.0}, {'Accuracy': 0.5558278978260692}, {'MCC': 0}], 'NC_004070.1': [{'TP': 4743}, {'FP': 0}, {'TN': 195407}, {'FN': 229257}, {'Precision': 1.0}, {'Recall': 0.02026923076923077}, {'F-Score': 0.039733102122365895}, {'Accuracy': 0.46610791160833426}, {'MCC': 0.09657527848917961}], 'NC_004603.1': [{'TP': 56791}, {'FP': 0}, {'TN': 137752}, {'FN': 242948}, {'Precision': 1.0}, {'Recall': 0.1894681706417917}, {'F-Score': 0.3185762768911452}, {'Accuracy': 0.44467886196516043}, {'MCC': 0.2618337640477221}]}\n",
      "---------------\n",
      "mcc =  0.23036379259998788\n",
      "f-score =  0.2566597552403785\n",
      "accuracy =  0.5244982515125598\n",
      "precision =  1.0\n",
      "recall =  0.1599144429932916\n",
      "---------------\n",
      "treasure_island_literature\n",
      "{'NC_004431.1': [{'TP': 754141}, {'FP': 16580}, {'TN': 506618}, {'FN': 42678}, {'Precision': 0.978487675825623}, {'Recall': 0.9464395301818858}, {'F-Score': 0.9621968179440398}, {'Accuracy': 0.955108153910139}, {'MCC': 0.9077440063886615}], 'NC_002695.1': [{'TP': 840179}, {'FP': 8368}, {'TN': 505964}, {'FN': 41736}, {'Precision': 0.99013843664523}, {'Recall': 0.9526757113780806}, {'F-Score': 0.9710458825446615}, {'Accuracy': 0.9641152317605696}, {'MCC': 0.9251028810119643}], 'NC_003198.1': [{'TP': 553817}, {'FP': 14644}, {'TN': 534071}, {'FN': 79877}, {'Precision': 0.974239217817933}, {'Recall': 0.8739502030948691}, {'F-Score': 0.9213736997309}, {'Accuracy': 0.9200606558305967}, {'MCC': 0.8456974354479465}], 'NC_003923.1': [{'TP': 216209}, {'FP': 30435}, {'TN': 241914}, {'FN': 1430}, {'Precision': 0.8766035257293914}, {'Recall': 0.9934294864431467}, {'F-Score': 0.9313672910703171}, {'Accuracy': 0.9349677951296766}, {'MCC': 0.8761861669691272}], 'NC_004070.1': [{'TP': 227138}, {'FP': 1180}, {'TN': 194227}, {'FN': 6862}, {'Precision': 0.9948317697246822}, {'Recall': 0.9706752136752137}, {'F-Score': 0.9826050467427183}, {'Accuracy': 0.9812718469889872}, {'MCC': 0.9626700512815768}], 'NC_004603.1': [{'TP': 237817}, {'FP': 14389}, {'TN': 123363}, {'FN': 61922}, {'Precision': 0.9429474318612563}, {'Recall': 0.7934136031680896}, {'F-Score': 0.8617416590421147}, {'Accuracy': 0.8255712688946744}, {'MCC': 0.6476126861623193}]}\n",
      "---------------\n",
      "mcc =  0.8608355378769326\n",
      "f-score =  0.9383883995124584\n",
      "accuracy =  0.9301824920857739\n",
      "precision =  0.9595413429340193\n",
      "recall =  0.9217639579902143\n",
      "---------------\n",
      "fine_tuned_model_literature\n",
      "{'NC_004431.1': [{'TP': 761520}, {'FP': 0}, {'TN': 523198}, {'FN': 35299}, {'Precision': 1.0}, {'Recall': 0.9557001025326957}, {'F-Score': 0.9773483176638716}, {'Accuracy': 0.9732586777291504}, {'MCC': 0.9462010629083971}], 'NC_002695.1': [{'TP': 858055}, {'FP': 0}, {'TN': 514332}, {'FN': 23860}, {'Precision': 1.0}, {'Recall': 0.9729452384867022}, {'F-Score': 0.9862871198928718}, {'Accuracy': 0.982911333023455}, {'MCC': 0.9642671068261592}], 'NC_003198.1': [{'TP': 607425}, {'FP': 8545}, {'TN': 540170}, {'FN': 26269}, {'Precision': 0.9861275711479455}, {'Recall': 0.9585462384052871}, {'F-Score': 0.972141311584554}, {'Accuracy': 0.9705567193754445}, {'MCC': 0.9413613075288944}], 'NC_003923.1': [{'TP': 212463}, {'FP': 1748}, {'TN': 270601}, {'FN': 5176}, {'Precision': 0.9918398214844243}, {'Recall': 0.976217497783026}, {'F-Score': 0.9839666550885725}, {'Accuracy': 0.9858690416908169}, {'MCC': 0.9714337706010012}], 'NC_004070.1': [{'TP': 231788}, {'FP': 230}, {'TN': 195177}, {'FN': 2212}, {'Precision': 0.9990086976010482}, {'Recall': 0.9905470085470085}, {'F-Score': 0.9947598590612379}, {'Accuracy': 0.9943130875835745}, {'MCC': 0.988585878000312}], 'NC_004603.1': [{'TP': 202158}, {'FP': 0}, {'TN': 137752}, {'FN': 97581}, {'Precision': 1.0}, {'Recall': 0.6744467686887592}, {'F-Score': 0.8055756459990795}, {'Accuracy': 0.7769531258928755}, {'MCC': 0.6283207177886957}]}\n",
      "---------------\n",
      "mcc =  0.9066949739422433\n",
      "f-score =  0.9533464848816978\n",
      "accuracy =  0.9473103308825528\n",
      "precision =  0.9961626817055697\n",
      "recall =  0.9214004757405799\n"
     ]
    }
   ],
   "source": [
    "predictors_folder = \"../outputs/literature_predictions\"\n",
    "predictors = [\"alien_hunter\", \"islander\", \"islandpath_dimob\", \"islandviewer\", \"sigi_hmm\", \"islandpick\"]\n",
    "model_dict = {}\n",
    "result_type = 'literature' #test or literature evaluation\n",
    "\n",
    "if result_type == 'test':\n",
    "    benbow_file = \"fine_tuned_model_test\"\n",
    "    treasure_island = \"treasure_island_test\"\n",
    "elif result_type == 'literature':\n",
    "    benbow_file = \"fine_tuned_model_literature\"\n",
    "    treasure_island = \"treasure_island_literature\"\n",
    "\n",
    "predictors += [treasure_island,benbow_file]\n",
    "\n",
    "for predictor in predictors:\n",
    "    predictor_file = os.path.join(predictors_folder, predictor)\n",
    "    predictor_file = predictor_file+'.xlsx'\n",
    "    predictor_df = pd.read_excel(predictor_file)\n",
    "\n",
    "    model_dict.update({predictor:get_organism_info(predictor_df)}) \n",
    "\n",
    "#read ground truth data (GI_literature_set_table, GI_negative_set_table, positive_test_table_gc, negative_test_table_gc)\n",
    "if result_type == 'literature':\n",
    "    pos_table = pd.read_excel(\"../outputs/literature_reference/GI_literature_set_table.xlsx\")\n",
    "    neg_table = pd.read_excel(\"../outputs/literature_reference/GI_negative_set_table.xlsx\")\n",
    "elif result_type == 'test':\n",
    "    pos_table = pd.read_excel(\"../outputs/literature_reference/positive_test_table_gc.xlsx\")\n",
    "    neg_table = pd.read_excel(\"../outputs/literature_reference/negative_test_table_gc.xlsx\")\n",
    "\n",
    "organism_pos_test_dict = get_organism_info(pos_table)\n",
    "organism_neg_test_dict = get_organism_info(neg_table)\n",
    "\n",
    "total_orgs = organism_pos_test_dict.keys()\n",
    "\n",
    "eval = Evaluations()\n",
    "\n",
    "print(\"evaluation of {} data\".format(result_type))\n",
    "eval_results = eval.evaluations_main_104(total_orgs, \n",
    "                                        model_dict, \n",
    "                                        organism_pos_test_dict, \n",
    "                                        organism_neg_test_dict, \n",
    "                                        result_type, \n",
    "                                        False)\n",
    "\n",
    "\n",
    "def myconverter(obj):\n",
    "    if isinstance(obj, np.integer):\n",
    "        return int(obj)\n",
    "    elif isinstance(obj, np.floating):\n",
    "        return float(obj)\n",
    "    elif isinstance(obj, np.ndarray):\n",
    "        return obj.tolist()\n",
    "    elif isinstance(obj, datetime.datetime):\n",
    "        return obj.__str__()\n",
    "            \n",
    "json_obj = json.dumps(eval_results, indent=1, default=myconverter)\n",
    "json_file = \"../outputs/evaluation/evaluation_result_{}_fine_tuned_model.json\".format(result_type)\n",
    "\n",
    "with open(json_file, 'w') as file:\n",
    "    json.dump(json_obj, file, indent=4)"
   ]
  },
  {
   "cell_type": "code",
   "execution_count": null,
   "metadata": {},
   "outputs": [],
   "source": []
  }
 ],
 "metadata": {
  "kernelspec": {
   "display_name": "Python (ilearnplus)",
   "language": "python",
   "name": "ilearnplus"
  },
  "language_info": {
   "codemirror_mode": {
    "name": "ipython",
    "version": 3
   },
   "file_extension": ".py",
   "mimetype": "text/x-python",
   "name": "python",
   "nbconvert_exporter": "python",
   "pygments_lexer": "ipython3",
   "version": "3.10.13"
  }
 },
 "nbformat": 4,
 "nbformat_minor": 2
}
