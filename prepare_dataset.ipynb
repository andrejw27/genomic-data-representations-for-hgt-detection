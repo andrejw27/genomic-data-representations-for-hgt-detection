{
 "cells": [
  {
   "cell_type": "code",
   "execution_count": null,
   "id": "7e0ea271-979c-4494-bd96-1753c6a3c2d6",
   "metadata": {},
   "outputs": [],
   "source": [
    "import os\n",
    "import numpy as np\n",
    "import pandas as pd\n",
    "import pickle\n",
    "import altair as alt\n",
    "import matplotlib.pyplot as plt\n",
    "from tqdm import tqdm\n",
    "from os import listdir\n",
    "from os.path import isfile, join\n",
    "from utils.util import read_file, query_sequence, df_to_fasta, fasta_to_df\n",
    "\n",
    "tqdm.pandas()"
   ]
  },
  {
   "cell_type": "markdown",
   "id": "0ed39fd7",
   "metadata": {},
   "source": [
    "## Read Data "
   ]
  },
  {
   "cell_type": "code",
   "execution_count": 54,
   "id": "2f213b52-0d0e-4d8d-b680-a1f2f52d43d5",
   "metadata": {},
   "outputs": [],
   "source": [
    "#read benbow data \n",
    "train_data_path = \"dataset/prev_studies/Treasure_Island/Benbow/\"\n",
    "fasta_file = os.path.join(train_data_path,\"benbow_pos.fasta\")\n",
    "benbow_pos = read_file(fasta_file, '1')\n",
    "fasta_file = os.path.join(train_data_path,\"benbow_neg.fasta\")\n",
    "benbow_neg = read_file(fasta_file, '0')\n",
    "benbow_data = pd.concat([benbow_pos, benbow_neg])\n",
    "\n",
    "#read literature data \n",
    "literature_data = pd.read_excel(\"dataset/prev_studies/Treasure_Island/reference_data/GI_literature_set_table.xlsx\")\n",
    "literature_data = literature_data.assign(Label='1')\n",
    "\n",
    "#get negative samples for literature data set \n",
    "literature_data_neg = benbow_data[(benbow_data['Accession'].isin(literature_data.Accession.unique())) & (benbow_data['Label'] == '0')]\n",
    "\n",
    "#merge literature positive and negative samples\n",
    "literature_data = pd.concat([literature_data[['Accession','Label','Start','End']], literature_data_neg])\n",
    "\n",
    "#read IslandPick data\n",
    "islandpick_data = pd.read_excel(\"dataset/prev_studies/IslandPick/RGP104.xlsx\")\n",
    "\n",
    "#list organisms covered in each data set\n",
    "benbow_id = set(benbow_data['Accession'].values) \n",
    "islandpick_id = set(islandpick_data['Accession'].values)\n",
    "literature_id = set(literature_data['Accession'].values)"
   ]
  },
  {
   "cell_type": "markdown",
   "id": "947226e6",
   "metadata": {},
   "source": [
    "## Query sequences from reference database and generate FASTA files"
   ]
  },
  {
   "cell_type": "code",
   "execution_count": 55,
   "id": "a7f560c6",
   "metadata": {},
   "outputs": [],
   "source": [
    "## query sequence from database from the given information, namely Accession, Start, and End, in each data \n",
    "## even though pandas offers parallel_apply function, it can't be performed in this function because of the multiple requests to the query database with the same email account\n",
    "## one could modify this function but it will be left as it is\n",
    "\n",
    "# benbow_data[['Sequence','Description']] = benbow_data.progress_apply(lambda x: query_sequence(x['Accession'], \n",
    "#                                                                                                                 x['Start'], \n",
    "#                                                                                                                 x['End']), \n",
    "#                                                                                         axis=1).to_list()\n",
    "\n",
    "\n",
    "## in case of failure when querying the database, it will show \"failed\" in the Sequence column\n",
    "## benbow_data[benbow_data['Sequence'].str.contains(\"failed\")]\n",
    "\n",
    "## or use the function df_to_fasta to write the above resulting data that now contains sequence and description into fasta file\n",
    "## df_to_fasta function also has a parameter that can directly query and write the sequences into fasta file as the example below\n",
    "\n",
    "# param = {'write_file':True,'filename':\"dataset/train_data/benbow_data.fasta\"} #whether write sequences to a fasta file specified in filename\n",
    "# fasta_data = benbow_data.progress_apply(lambda x: df_to_fasta(x,\n",
    "#                                                                        dna_only=True, #dna_only determines whether or not to process sequences with IUPAC codes\n",
    "#                                                                        query_db=True, #query sequence from database\n",
    "#                                                                        **param), axis=1).to_list()\n",
    "\n",
    "## variable treasure_island_data can be replaced be any other data (benbow, islandpick, ...) declared above\n"
   ]
  },
  {
   "cell_type": "code",
   "execution_count": 56,
   "id": "1ba76bda",
   "metadata": {},
   "outputs": [],
   "source": [
    "## if the query_sequence function happens to be interrupted and there already exist a fasta file\n",
    "## one can resume the writing by following steps below\n",
    "\n",
    "## read the interrupted fasta file (\"dataset/train_data/benbow_data.fasta\")\n",
    "# benbow_temp = fasta_to_df(\"path/to/the/interrupted_file\", dna_only=True)\n",
    "\n",
    "## find the remaining organisms having no sequence yet using outer join\n",
    "# remaining_benbow = pd.merge(benbow_data, benbow_temp, on=['Accession','Start','End'], how=\"outer\", indicator=True\n",
    "#               ).query('_merge==\"left_only\"')[['Accession','Label_x','Start','End','Length']]\n",
    "# remaining_benbow = remaining_benbow.rename(columns={'Label_x':'Label'})\n",
    "\n",
    "## write (append) the remaining sequences into the written fasta file (make sure there is no redundancy)\n",
    "# param = {'write_file':True,'filename':\"path/to/the/interrupted_file\"}                        \n",
    "# remaining_benbow.progress_apply(lambda x: df_to_fasta(x,\n",
    "#                                           dna_only=True,\n",
    "#                                           query_db=True,\n",
    "#                                           **param),\n",
    "#                         axis=1)"
   ]
  },
  {
   "cell_type": "markdown",
   "id": "9a83df58",
   "metadata": {},
   "source": [
    "### output: FASTA files named dataset/train_data/benbow_data.fasta, dataset/train_data/islandpick_data.fasta, dataset/test_data/literature_data"
   ]
  },
  {
   "cell_type": "markdown",
   "id": "ada6b091",
   "metadata": {},
   "source": [
    "## Dataset from GI_Cluster (updated from ZislandExplorer)"
   ]
  },
  {
   "cell_type": "code",
   "execution_count": 57,
   "id": "87da8238",
   "metadata": {},
   "outputs": [],
   "source": [
    "#ZislandExplorer: https://www.ncbi.nlm.nih.gov/pmc/articles/PMC5429010/\n",
    "#GI_Cluster: https://doi.org/10.1142/S0219720018400103 https://github.com/icelu/GI_Cluster\n",
    "\n",
    "#read dataset from GI_Cluster\n",
    "file_path = \"dataset/prev_studies/GI_Cluster/evaluation/C-dataset\"\n",
    "files = [f for f in listdir(file_path) if isfile(join(file_path, f))]\n",
    "\n",
    "data = []\n",
    "\n",
    "for filename in files:\n",
    "    \n",
    "    with open(join(file_path,filename)) as file:\n",
    "        for line in file:\n",
    "            info = line.rstrip()\n",
    "            start = info.split('\\t')[0]\n",
    "            end = info.split('\\t')[1]\n",
    "\n",
    "            if filename.split('.')[-1] == 'neg':\n",
    "                label = '0'\n",
    "            else:\n",
    "                label = '1'\n",
    "                \n",
    "            data.append([filename.split('.')[0], int(start), int(end), label])\n",
    "\n",
    "data_df = pd.DataFrame(data, columns=['Accession','Start','End','Label'])"
   ]
  },
  {
   "cell_type": "code",
   "execution_count": 58,
   "id": "96a3ef2f",
   "metadata": {},
   "outputs": [],
   "source": [
    "## query sequences from database, then write sequences into the written fasta file \n",
    "# param = {'write_file':True,'filename':'dataset/train_data/gicluster_data.fasta'}                        \n",
    "# temp = data_df.progress_apply(lambda x: df_to_fasta(x,\n",
    "#                                           dna_only=True,\n",
    "#                                           query_db=True,\n",
    "#                                           **param),\n",
    "#                         axis=1)"
   ]
  },
  {
   "cell_type": "markdown",
   "id": "f4eb9161",
   "metadata": {},
   "source": [
    "### output: gicluster_data.fasta"
   ]
  },
  {
   "cell_type": "markdown",
   "id": "86ea5aae",
   "metadata": {},
   "source": [
    "## Dataset from RVM"
   ]
  },
  {
   "cell_type": "code",
   "execution_count": 59,
   "id": "56f014d7",
   "metadata": {},
   "outputs": [],
   "source": [
    "#RVM: https://doi.org/10.1093/bioinformatics/btl369 \n",
    "\n",
    "filename = 'dataset/prev_studies/RVM/SuppTable1.xlsx'\n",
    "salmonella = pd.read_excel(filename, sheet_name='Salmonella')\n",
    "staphy = pd.read_excel(filename, sheet_name='Staphylococcus')\n",
    "strepto = pd.read_excel(filename, sheet_name='Streptococcus')\n",
    "\n",
    "salmonella = salmonella.rename(columns={'FROM':'Start', 'TO':'End', 'LABEL': 'ID', 'CLASS': 'Label'})\n",
    "staphy = staphy.rename(columns={'FROM':'Start', 'TO':'End', 'LABEL': 'ID', 'CLASS': 'Label'})\n",
    "strepto = strepto.rename(columns={'FROM':'Start', 'TO':'End', 'LABEL': 'ID', 'CLASS': 'Label'})"
   ]
  },
  {
   "cell_type": "code",
   "execution_count": 60,
   "id": "b72d8b72",
   "metadata": {},
   "outputs": [
    {
     "name": "stderr",
     "output_type": "stream",
     "text": [
      "100%|██████████| 421/421 [00:00<00:00, 131845.14it/s]\n",
      "100%|██████████| 140/140 [00:00<00:00, 109716.47it/s]\n",
      "100%|██████████| 107/107 [00:00<00:00, 93595.52it/s]\n"
     ]
    }
   ],
   "source": [
    "# extract the identifier (species) from the ID\n",
    "salmonella['identifier'] = salmonella.progress_apply(lambda x: x['ID'].split('.')[1], axis=1)\n",
    "staphy['identifier'] = staphy.progress_apply(lambda x: x['ID'].split('.')[1], axis=1)\n",
    "strepto['identifier'] = strepto.progress_apply(lambda x: x['ID'].split('.')[1], axis=1)"
   ]
  },
  {
   "cell_type": "code",
   "execution_count": 61,
   "id": "40fb47b8",
   "metadata": {},
   "outputs": [
    {
     "name": "stderr",
     "output_type": "stream",
     "text": [
      "100%|██████████| 421/421 [00:00<00:00, 127808.48it/s]\n"
     ]
    },
    {
     "data": {
      "text/plain": [
       "{'CT18', 'DT104', 'LT2', 'McC', 'SAR', 'SB', 'SEN', 'SG', 'SL1344', 'TY2'}"
      ]
     },
     "execution_count": 61,
     "metadata": {},
     "output_type": "execute_result"
    }
   ],
   "source": [
    "set(salmonella.progress_apply(lambda x: x['ID'].split('.')[1], axis=1).values)"
   ]
  },
  {
   "cell_type": "code",
   "execution_count": 62,
   "id": "95b851e2",
   "metadata": {},
   "outputs": [
    {
     "name": "stderr",
     "output_type": "stream",
     "text": [
      "100%|██████████| 421/421 [00:00<00:00, 139832.28it/s]\n",
      "100%|██████████| 140/140 [00:00<00:00, 92823.67it/s]\n",
      "100%|██████████| 107/107 [00:00<00:00, 85386.33it/s]\n"
     ]
    }
   ],
   "source": [
    "#map the strains to their accession number from table 4: https://genome.cshlp.org/content/18/2/331/T5.expansion.html\n",
    "\n",
    "salmonella_dict = {\n",
    "    'CT18': 'AL513382',\n",
    "    'DT104': 'HF937208.1', \n",
    "    'LT2': 'AE006468', \n",
    "    'McC':'CP000026', \n",
    "    'SAR': 'CP000880.1', \n",
    "    'SB': 'NC_015761', \n",
    "    'SEN': 'CP146375.1', \n",
    "    'SG': 'AM933173.1', \n",
    "    'SL1344': 'NC_016810.1',\n",
    "    'TY2': 'AE014613'\n",
    "}\n",
    "\n",
    "staphy_dict = {\n",
    "    'Epid_ATCC': 'AE015929', \n",
    "    'Epid_RP62': 'NC_002976.3', \n",
    "    'Haem': 'AP006716', \n",
    "    'MRSA252': 'BX571856', \n",
    "    'Mu50': 'BA000017', \n",
    "    'MW2': 'BA000033', \n",
    "    'N315': 'BA000018',\n",
    "    'RF122': ' AJ938182.1', \n",
    "    'Sapro': 'AP008934', \n",
    "    'USA': 'CP000255'\n",
    "}\n",
    "\n",
    "strepto_dict = {\n",
    "    'agal909': 'NC_007432.1', \n",
    "    'agalNEM': 'AL732656', \n",
    "    'pneumR6': 'AE007317', \n",
    "    'pneumTIGR': 'AE005672', \n",
    "    'Pyog10750': 'CP000262',\n",
    "    'Pyog2096': 'CP000261', \n",
    "    'Pyog9429': 'CP000259', \n",
    "    'PyogSanger': 'AM295007', \n",
    "    'suis': 'NC_012925.1', \n",
    "    'therm1066': 'CP000024',\n",
    "    'therm18311': 'CP000023', \n",
    "    'Uberis': 'NC_012004.1'\n",
    "}\n",
    "\n",
    "salmonella['Accession'] = salmonella.progress_apply(lambda x: salmonella_dict[x['identifier']], axis=1)\n",
    "staphy['Accession'] = staphy.progress_apply(lambda x: staphy_dict[x['identifier']], axis=1)\n",
    "strepto['Accession'] = strepto.progress_apply(lambda x: strepto_dict[x['identifier']], axis=1)\n",
    "\n",
    "rvm_dataset = pd.concat([salmonella,staphy,strepto])[['Accession','Start','End','Label']]\n",
    "rvm_dataset['Label'] = rvm_dataset['Label'].astype(str) \n"
   ]
  },
  {
   "cell_type": "code",
   "execution_count": 63,
   "id": "68be5648",
   "metadata": {},
   "outputs": [],
   "source": [
    "# param = {'write_file':True,'filename':'dataset/train_data/rvm_data.fasta'}                        \n",
    "# temp = rvm_dataset.progress_apply(lambda x: df_to_fasta(x,\n",
    "#                                           dna_only=True,\n",
    "#                                           query_db=True,\n",
    "#                                           **param),\n",
    "#                         axis=1)"
   ]
  },
  {
   "cell_type": "markdown",
   "id": "57ebb64f",
   "metadata": {},
   "source": [
    "### output: rvm_data.fasta"
   ]
  },
  {
   "cell_type": "markdown",
   "id": "0a4b5fcd",
   "metadata": {},
   "source": [
    "## Summary of Datasets"
   ]
  },
  {
   "cell_type": "code",
   "execution_count": 67,
   "id": "4e7e9249",
   "metadata": {},
   "outputs": [],
   "source": [
    "train_dataset = ['benbow','islandpick','rvm','gicluster']\n",
    "train_df = pd.DataFrame()\n",
    "for data_name in train_dataset:\n",
    "    file = \"dataset/train_data/{}_data.fasta\".format(data_name)\n",
    "    df = fasta_to_df(file)\n",
    "    df = df.assign(data_name=data_name)\n",
    "    train_df = pd.concat([train_df,df])\n",
    "\n",
    "test_dataset = ['benbow_test', 'literature']\n",
    "\n",
    "test_df = pd.DataFrame()\n",
    "for data_name in test_dataset:\n",
    "    file = \"dataset/test_data/{}_data.fasta\".format(data_name)\n",
    "    df = fasta_to_df(file)\n",
    "    df = df.assign(data_name=data_name)\n",
    "    test_df = pd.concat([test_df,df])\n",
    "\n",
    "all_data_df = pd.concat([train_df, test_df]).drop_duplicates()\n",
    "all_data_df['Length'] = all_data_df.apply(lambda x: x['End']-x['Start'], axis=1)\n",
    "all_data_df['Organism'] = all_data_df.apply(lambda x: ' '.join(x['Description'].split(' ')[1:-2]), axis=1)\n",
    "\n",
    "\n",
    "summary_df = pd.DataFrame()\n",
    "\n",
    "for data_name in train_dataset+test_dataset:\n",
    "\n",
    "    cols = ['data_name','train/test','n_organism','n_pos','n_neg']\n",
    "\n",
    "    #summary of each data set\n",
    "    data = all_data_df[all_data_df['data_name']==data_name]\n",
    "\n",
    "    if data_name in train_dataset:\n",
    "        train_test = 'train'\n",
    "    elif data_name in test_dataset:\n",
    "        train_test = 'test'\n",
    "\n",
    "    row = [data_name,train_test,data['Accession'].unique().size,data['Label'].tolist().count('1'),\n",
    "    data['Label'].tolist().count('0')]\n",
    "\n",
    "    summary_df = pd.concat([summary_df,pd.DataFrame([row], columns=cols)])"
   ]
  },
  {
   "cell_type": "code",
   "execution_count": 68,
   "id": "6722e345",
   "metadata": {},
   "outputs": [
    {
     "data": {
      "text/html": [
       "<div>\n",
       "<style scoped>\n",
       "    .dataframe tbody tr th:only-of-type {\n",
       "        vertical-align: middle;\n",
       "    }\n",
       "\n",
       "    .dataframe tbody tr th {\n",
       "        vertical-align: top;\n",
       "    }\n",
       "\n",
       "    .dataframe thead th {\n",
       "        text-align: right;\n",
       "    }\n",
       "</style>\n",
       "<table border=\"1\" class=\"dataframe\">\n",
       "  <thead>\n",
       "    <tr style=\"text-align: right;\">\n",
       "      <th></th>\n",
       "      <th>data_name</th>\n",
       "      <th>train/test</th>\n",
       "      <th>n_organism</th>\n",
       "      <th>n_pos</th>\n",
       "      <th>n_neg</th>\n",
       "    </tr>\n",
       "  </thead>\n",
       "  <tbody>\n",
       "    <tr>\n",
       "      <th>0</th>\n",
       "      <td>benbow</td>\n",
       "      <td>train</td>\n",
       "      <td>167</td>\n",
       "      <td>1742</td>\n",
       "      <td>1393</td>\n",
       "    </tr>\n",
       "    <tr>\n",
       "      <th>0</th>\n",
       "      <td>islandpick</td>\n",
       "      <td>train</td>\n",
       "      <td>104</td>\n",
       "      <td>1845</td>\n",
       "      <td>3266</td>\n",
       "    </tr>\n",
       "    <tr>\n",
       "      <th>0</th>\n",
       "      <td>rvm</td>\n",
       "      <td>train</td>\n",
       "      <td>32</td>\n",
       "      <td>331</td>\n",
       "      <td>337</td>\n",
       "    </tr>\n",
       "    <tr>\n",
       "      <th>0</th>\n",
       "      <td>gicluster</td>\n",
       "      <td>train</td>\n",
       "      <td>9</td>\n",
       "      <td>625</td>\n",
       "      <td>1743</td>\n",
       "    </tr>\n",
       "    <tr>\n",
       "      <th>0</th>\n",
       "      <td>benbow_test</td>\n",
       "      <td>test</td>\n",
       "      <td>20</td>\n",
       "      <td>413</td>\n",
       "      <td>153</td>\n",
       "    </tr>\n",
       "    <tr>\n",
       "      <th>0</th>\n",
       "      <td>literature</td>\n",
       "      <td>test</td>\n",
       "      <td>6</td>\n",
       "      <td>80</td>\n",
       "      <td>182</td>\n",
       "    </tr>\n",
       "  </tbody>\n",
       "</table>\n",
       "</div>"
      ],
      "text/plain": [
       "     data_name train/test  n_organism  n_pos  n_neg\n",
       "0       benbow      train         167   1742   1393\n",
       "0   islandpick      train         104   1845   3266\n",
       "0          rvm      train          32    331    337\n",
       "0    gicluster      train           9    625   1743\n",
       "0  benbow_test       test          20    413    153\n",
       "0   literature       test           6     80    182"
      ]
     },
     "execution_count": 68,
     "metadata": {},
     "output_type": "execute_result"
    }
   ],
   "source": [
    "summary_df"
   ]
  },
  {
   "cell_type": "code",
   "execution_count": 69,
   "id": "1f78f4de",
   "metadata": {},
   "outputs": [
    {
     "data": {
      "text/html": [
       "<div>\n",
       "<style scoped>\n",
       "    .dataframe tbody tr th:only-of-type {\n",
       "        vertical-align: middle;\n",
       "    }\n",
       "\n",
       "    .dataframe tbody tr th {\n",
       "        vertical-align: top;\n",
       "    }\n",
       "\n",
       "    .dataframe thead th {\n",
       "        text-align: right;\n",
       "    }\n",
       "</style>\n",
       "<table border=\"1\" class=\"dataframe\">\n",
       "  <thead>\n",
       "    <tr style=\"text-align: right;\">\n",
       "      <th></th>\n",
       "      <th>data_name</th>\n",
       "      <th>Label</th>\n",
       "      <th>mean</th>\n",
       "      <th>std</th>\n",
       "    </tr>\n",
       "  </thead>\n",
       "  <tbody>\n",
       "    <tr>\n",
       "      <th>0</th>\n",
       "      <td>benbow</td>\n",
       "      <td>0</td>\n",
       "      <td>14034.557789</td>\n",
       "      <td>8094.962113</td>\n",
       "    </tr>\n",
       "    <tr>\n",
       "      <th>1</th>\n",
       "      <td>benbow</td>\n",
       "      <td>1</td>\n",
       "      <td>14725.681401</td>\n",
       "      <td>19772.416757</td>\n",
       "    </tr>\n",
       "    <tr>\n",
       "      <th>2</th>\n",
       "      <td>benbow_test</td>\n",
       "      <td>0</td>\n",
       "      <td>12238.124183</td>\n",
       "      <td>4547.176543</td>\n",
       "    </tr>\n",
       "    <tr>\n",
       "      <th>3</th>\n",
       "      <td>benbow_test</td>\n",
       "      <td>1</td>\n",
       "      <td>11070.723971</td>\n",
       "      <td>8219.773340</td>\n",
       "    </tr>\n",
       "    <tr>\n",
       "      <th>4</th>\n",
       "      <td>gicluster</td>\n",
       "      <td>0</td>\n",
       "      <td>6563.792886</td>\n",
       "      <td>4624.818806</td>\n",
       "    </tr>\n",
       "    <tr>\n",
       "      <th>5</th>\n",
       "      <td>gicluster</td>\n",
       "      <td>1</td>\n",
       "      <td>5010.166400</td>\n",
       "      <td>5209.246204</td>\n",
       "    </tr>\n",
       "    <tr>\n",
       "      <th>6</th>\n",
       "      <td>islandpick</td>\n",
       "      <td>0</td>\n",
       "      <td>13799.303735</td>\n",
       "      <td>8038.640713</td>\n",
       "    </tr>\n",
       "    <tr>\n",
       "      <th>7</th>\n",
       "      <td>islandpick</td>\n",
       "      <td>1</td>\n",
       "      <td>11599.647154</td>\n",
       "      <td>8974.758666</td>\n",
       "    </tr>\n",
       "    <tr>\n",
       "      <th>8</th>\n",
       "      <td>literature</td>\n",
       "      <td>0</td>\n",
       "      <td>12042.598901</td>\n",
       "      <td>4022.119405</td>\n",
       "    </tr>\n",
       "    <tr>\n",
       "      <th>9</th>\n",
       "      <td>literature</td>\n",
       "      <td>1</td>\n",
       "      <td>38297.575000</td>\n",
       "      <td>24925.249354</td>\n",
       "    </tr>\n",
       "    <tr>\n",
       "      <th>10</th>\n",
       "      <td>rvm</td>\n",
       "      <td>0</td>\n",
       "      <td>17597.243323</td>\n",
       "      <td>21907.292076</td>\n",
       "    </tr>\n",
       "    <tr>\n",
       "      <th>11</th>\n",
       "      <td>rvm</td>\n",
       "      <td>1</td>\n",
       "      <td>15524.867069</td>\n",
       "      <td>17216.167606</td>\n",
       "    </tr>\n",
       "  </tbody>\n",
       "</table>\n",
       "</div>"
      ],
      "text/plain": [
       "      data_name Label          mean           std\n",
       "0        benbow     0  14034.557789   8094.962113\n",
       "1        benbow     1  14725.681401  19772.416757\n",
       "2   benbow_test     0  12238.124183   4547.176543\n",
       "3   benbow_test     1  11070.723971   8219.773340\n",
       "4     gicluster     0   6563.792886   4624.818806\n",
       "5     gicluster     1   5010.166400   5209.246204\n",
       "6    islandpick     0  13799.303735   8038.640713\n",
       "7    islandpick     1  11599.647154   8974.758666\n",
       "8    literature     0  12042.598901   4022.119405\n",
       "9    literature     1  38297.575000  24925.249354\n",
       "10          rvm     0  17597.243323  21907.292076\n",
       "11          rvm     1  15524.867069  17216.167606"
      ]
     },
     "execution_count": 69,
     "metadata": {},
     "output_type": "execute_result"
    }
   ],
   "source": [
    "# length of sequences in each data set\n",
    "#statistics of the sequence length of each dataset\n",
    "all_data_df.groupby(['data_name','Label'])['Length'].agg(['mean', 'std']).reset_index()"
   ]
  },
  {
   "cell_type": "markdown",
   "id": "e2222e38",
   "metadata": {},
   "source": [
    "## Check Species Diversity in each data set"
   ]
  },
  {
   "cell_type": "code",
   "execution_count": 70,
   "id": "d296d4a0",
   "metadata": {},
   "outputs": [],
   "source": [
    "from scipy.stats import entropy\n",
    "\n",
    "# Function to calculate Species Richness\n",
    "def species_richness(species_counts):\n",
    "    return np.count_nonzero(species_counts)\n",
    "\n",
    "# Function to calculate Shannon Index (H')\n",
    "def shannon_index(species_counts):\n",
    "    proportions = species_counts / np.sum(species_counts)\n",
    "    return entropy(proportions, base=np.e)\n",
    "\n",
    "# Function to calculate Simpson's Index (D)\n",
    "def simpsons_index(species_counts):\n",
    "    proportions = species_counts / np.sum(species_counts)\n",
    "    return 1 - np.sum(proportions**2)"
   ]
  },
  {
   "cell_type": "code",
   "execution_count": 71,
   "id": "c1545f8f",
   "metadata": {},
   "outputs": [],
   "source": [
    "all_data_df['genus'] = all_data_df.apply(lambda x: x['Organism'].split(' ')[0], axis=1)\n",
    "all_data_df['species'] = all_data_df.apply(lambda x: ' '.join(x['Organism'].split(' ')[0:2]), axis=1)"
   ]
  },
  {
   "cell_type": "code",
   "execution_count": 72,
   "id": "15bed32f",
   "metadata": {},
   "outputs": [],
   "source": [
    "species_count = all_data_df.groupby(['data_name','species']).size().reset_index(name='counts')\n",
    "species_count['p'] = species_count.groupby('data_name').apply(lambda x: x['counts']/x['counts'].sum()).reset_index(name='p')['p'] \n",
    "species_count['ln_p'] = species_count.apply(lambda x: np.log(x['p']), axis=1)\n",
    "species_count['p*ln_p'] = species_count.apply(lambda x: -1*x['p']*x['ln_p'], axis=1) "
   ]
  },
  {
   "cell_type": "code",
   "execution_count": 73,
   "id": "1ec3a35d",
   "metadata": {},
   "outputs": [],
   "source": [
    "species_diversity = pd.DataFrame()\n",
    "species_diversity['species_richness'] = species_count.groupby('data_name').apply(lambda x: species_richness(x['counts']))\n",
    "species_diversity['shannon_index'] = species_count.groupby('data_name').apply(lambda x: shannon_index(x['counts']))\n",
    "species_diversity['simpsons_index'] = species_count.groupby('data_name').apply(lambda x: simpsons_index(x['counts']))"
   ]
  },
  {
   "cell_type": "code",
   "execution_count": 74,
   "id": "4e61e7d1",
   "metadata": {},
   "outputs": [
    {
     "data": {
      "text/html": [
       "<div>\n",
       "<style scoped>\n",
       "    .dataframe tbody tr th:only-of-type {\n",
       "        vertical-align: middle;\n",
       "    }\n",
       "\n",
       "    .dataframe tbody tr th {\n",
       "        vertical-align: top;\n",
       "    }\n",
       "\n",
       "    .dataframe thead th {\n",
       "        text-align: right;\n",
       "    }\n",
       "</style>\n",
       "<table border=\"1\" class=\"dataframe\">\n",
       "  <thead>\n",
       "    <tr style=\"text-align: right;\">\n",
       "      <th></th>\n",
       "      <th>species_richness</th>\n",
       "      <th>shannon_index</th>\n",
       "      <th>simpsons_index</th>\n",
       "    </tr>\n",
       "    <tr>\n",
       "      <th>data_name</th>\n",
       "      <th></th>\n",
       "      <th></th>\n",
       "      <th></th>\n",
       "    </tr>\n",
       "  </thead>\n",
       "  <tbody>\n",
       "    <tr>\n",
       "      <th>benbow</th>\n",
       "      <td>79</td>\n",
       "      <td>3.626918</td>\n",
       "      <td>0.964113</td>\n",
       "    </tr>\n",
       "    <tr>\n",
       "      <th>islandpick</th>\n",
       "      <td>50</td>\n",
       "      <td>3.523437</td>\n",
       "      <td>0.958348</td>\n",
       "    </tr>\n",
       "    <tr>\n",
       "      <th>benbow_test</th>\n",
       "      <td>16</td>\n",
       "      <td>2.277212</td>\n",
       "      <td>0.837112</td>\n",
       "    </tr>\n",
       "    <tr>\n",
       "      <th>rvm</th>\n",
       "      <td>12</td>\n",
       "      <td>1.722087</td>\n",
       "      <td>0.725205</td>\n",
       "    </tr>\n",
       "    <tr>\n",
       "      <th>gicluster</th>\n",
       "      <td>9</td>\n",
       "      <td>2.141821</td>\n",
       "      <td>0.876815</td>\n",
       "    </tr>\n",
       "    <tr>\n",
       "      <th>literature</th>\n",
       "      <td>5</td>\n",
       "      <td>1.366144</td>\n",
       "      <td>0.690257</td>\n",
       "    </tr>\n",
       "  </tbody>\n",
       "</table>\n",
       "</div>"
      ],
      "text/plain": [
       "             species_richness  shannon_index  simpsons_index\n",
       "data_name                                                   \n",
       "benbow                     79       3.626918        0.964113\n",
       "islandpick                 50       3.523437        0.958348\n",
       "benbow_test                16       2.277212        0.837112\n",
       "rvm                        12       1.722087        0.725205\n",
       "gicluster                   9       2.141821        0.876815\n",
       "literature                  5       1.366144        0.690257"
      ]
     },
     "execution_count": 74,
     "metadata": {},
     "output_type": "execute_result"
    }
   ],
   "source": [
    "species_diversity.sort_values(by='species_richness', ascending=False)"
   ]
  },
  {
   "cell_type": "code",
   "execution_count": 75,
   "id": "857b8db0",
   "metadata": {},
   "outputs": [],
   "source": [
    "genus_count = all_data_df.groupby(['data_name','genus']).size().reset_index(name='counts')\n",
    "genus_count['p'] = genus_count.groupby('data_name').apply(lambda x: x['counts']/x['counts'].sum()).reset_index(name='p')['p'] \n",
    "genus_count['ln_p'] = genus_count.apply(lambda x: np.log(x['p']), axis=1)\n",
    "genus_count['p*ln_p'] = genus_count.apply(lambda x: -1*x['p']*x['ln_p'], axis=1) "
   ]
  },
  {
   "cell_type": "code",
   "execution_count": 76,
   "id": "7c4837ae",
   "metadata": {},
   "outputs": [],
   "source": [
    "genus_diversity = pd.DataFrame()\n",
    "genus_diversity['genus_richness'] = genus_count.groupby('data_name').apply(lambda x: species_richness(x['counts']))\n",
    "genus_diversity['shannon_index'] = genus_count.groupby('data_name').apply(lambda x: shannon_index(x['counts']))\n",
    "genus_diversity['simpsons_index'] = genus_count.groupby('data_name').apply(lambda x: simpsons_index(x['counts']))"
   ]
  },
  {
   "cell_type": "code",
   "execution_count": 77,
   "id": "f97cafad",
   "metadata": {},
   "outputs": [
    {
     "data": {
      "text/html": [
       "<div>\n",
       "<style scoped>\n",
       "    .dataframe tbody tr th:only-of-type {\n",
       "        vertical-align: middle;\n",
       "    }\n",
       "\n",
       "    .dataframe tbody tr th {\n",
       "        vertical-align: top;\n",
       "    }\n",
       "\n",
       "    .dataframe thead th {\n",
       "        text-align: right;\n",
       "    }\n",
       "</style>\n",
       "<table border=\"1\" class=\"dataframe\">\n",
       "  <thead>\n",
       "    <tr style=\"text-align: right;\">\n",
       "      <th></th>\n",
       "      <th>genus_richness</th>\n",
       "      <th>shannon_index</th>\n",
       "      <th>simpsons_index</th>\n",
       "    </tr>\n",
       "    <tr>\n",
       "      <th>data_name</th>\n",
       "      <th></th>\n",
       "      <th></th>\n",
       "      <th></th>\n",
       "    </tr>\n",
       "  </thead>\n",
       "  <tbody>\n",
       "    <tr>\n",
       "      <th>benbow</th>\n",
       "      <td>33</td>\n",
       "      <td>2.605827</td>\n",
       "      <td>0.894077</td>\n",
       "    </tr>\n",
       "    <tr>\n",
       "      <th>islandpick</th>\n",
       "      <td>22</td>\n",
       "      <td>2.598021</td>\n",
       "      <td>0.896702</td>\n",
       "    </tr>\n",
       "    <tr>\n",
       "      <th>benbow_test</th>\n",
       "      <td>10</td>\n",
       "      <td>1.947907</td>\n",
       "      <td>0.813408</td>\n",
       "    </tr>\n",
       "    <tr>\n",
       "      <th>gicluster</th>\n",
       "      <td>9</td>\n",
       "      <td>2.141821</td>\n",
       "      <td>0.876815</td>\n",
       "    </tr>\n",
       "    <tr>\n",
       "      <th>literature</th>\n",
       "      <td>5</td>\n",
       "      <td>1.366144</td>\n",
       "      <td>0.690257</td>\n",
       "    </tr>\n",
       "    <tr>\n",
       "      <th>rvm</th>\n",
       "      <td>3</td>\n",
       "      <td>0.911817</td>\n",
       "      <td>0.533217</td>\n",
       "    </tr>\n",
       "  </tbody>\n",
       "</table>\n",
       "</div>"
      ],
      "text/plain": [
       "             genus_richness  shannon_index  simpsons_index\n",
       "data_name                                                 \n",
       "benbow                   33       2.605827        0.894077\n",
       "islandpick               22       2.598021        0.896702\n",
       "benbow_test              10       1.947907        0.813408\n",
       "gicluster                 9       2.141821        0.876815\n",
       "literature                5       1.366144        0.690257\n",
       "rvm                       3       0.911817        0.533217"
      ]
     },
     "execution_count": 77,
     "metadata": {},
     "output_type": "execute_result"
    }
   ],
   "source": [
    "genus_diversity.sort_values(by='genus_richness', ascending=False)"
   ]
  }
 ],
 "metadata": {
  "kernelspec": {
   "display_name": "Python (ilearnplus)",
   "language": "python",
   "name": "ilearnplus"
  },
  "language_info": {
   "codemirror_mode": {
    "name": "ipython",
    "version": 3
   },
   "file_extension": ".py",
   "mimetype": "text/x-python",
   "name": "python",
   "nbconvert_exporter": "python",
   "pygments_lexer": "ipython3",
   "version": "3.10.13"
  }
 },
 "nbformat": 4,
 "nbformat_minor": 5
}
