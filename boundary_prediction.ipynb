{
 "cells": [
  {
   "cell_type": "code",
   "execution_count": 3,
   "metadata": {},
   "outputs": [],
   "source": [
    "import os\n",
    "import numpy as np \n",
    "import pandas as pd \n",
    "from tqdm import tqdm\n",
    "import json \n",
    "import datetime\n",
    "from utils.Predictor import Predictor\n",
    "from utils.Evaluations import Evaluations\n",
    "from utils.util import get_organism_info"
   ]
  },
  {
   "cell_type": "markdown",
   "metadata": {},
   "source": [
    "## Predict Boundaries"
   ]
  },
  {
   "cell_type": "code",
   "execution_count": null,
   "metadata": {},
   "outputs": [
    {
     "name": "stderr",
     "output_type": "stream",
     "text": [
      "  0%|          | 0/24 [00:00<?, ?it/s]"
     ]
    },
    {
     "name": "stdout",
     "output_type": "stream",
     "text": [
      "--- start predicting ---\n"
     ]
    },
    {
     "name": "stderr",
     "output_type": "stream",
     "text": [
      "Processing NC_008253.1|1|NC_008253.1:   0%|          | 0/1 [00:00<?, ?it/s]"
     ]
    },
    {
     "name": "stdout",
     "output_type": "stream",
     "text": [
      "\n",
      "-------- sequence 1-------- \n",
      "\n",
      "\n",
      " Preprocessing DNA segment \n",
      "\n"
     ]
    },
    {
     "name": "stderr",
     "output_type": "stream",
     "text": [
      "100%|██████████| 494/494 [00:00<00:00, 557585.09it/s]\n"
     ]
    },
    {
     "name": "stdout",
     "output_type": "stream",
     "text": [
      "\n",
      " Get DNA segment probability  \n",
      "\n",
      "positive ratio:  0.25708502024291496\n",
      "out of distribution:  False\n"
     ]
    },
    {
     "name": "stderr",
     "output_type": "stream",
     "text": [
      "100%|██████████| 494/494 [00:00<00:00, 2906011.47it/s]"
     ]
    },
    {
     "name": "stdout",
     "output_type": "stream",
     "text": [
      "\n",
      " Fine tune GEI borders  \n",
      "\n"
     ]
    },
    {
     "name": "stderr",
     "output_type": "stream",
     "text": [
      "\n",
      "100%|██████████| 28/28 [00:04<00:00,  6.60it/s]\n",
      "Processing NC_008253.1|1|NC_008253.1: 100%|██████████| 1/1 [00:19<00:00, 19.09s/it]\n",
      "  4%|▍         | 1/24 [00:19<07:20, 19.15s/it]"
     ]
    },
    {
     "name": "stdout",
     "output_type": "stream",
     "text": [
      "--- finished predicting ---\n",
      "--- 19.104822874069214 seconds ---\n",
      "--- start predicting ---\n"
     ]
    },
    {
     "name": "stderr",
     "output_type": "stream",
     "text": [
      "Processing NC_010473.1|1|NC_010473.1:   0%|          | 0/1 [00:00<?, ?it/s]"
     ]
    },
    {
     "name": "stdout",
     "output_type": "stream",
     "text": [
      "\n",
      "-------- sequence 1-------- \n",
      "\n",
      "\n",
      " Preprocessing DNA segment \n",
      "\n"
     ]
    },
    {
     "name": "stderr",
     "output_type": "stream",
     "text": [
      "100%|██████████| 469/469 [00:00<00:00, 616268.35it/s]\n"
     ]
    },
    {
     "name": "stdout",
     "output_type": "stream",
     "text": [
      "\n",
      " Get DNA segment probability  \n",
      "\n",
      "positive ratio:  0.18336886993603413\n",
      "out of distribution:  False\n"
     ]
    },
    {
     "name": "stderr",
     "output_type": "stream",
     "text": [
      "100%|██████████| 469/469 [00:00<00:00, 2953646.51it/s]"
     ]
    },
    {
     "name": "stdout",
     "output_type": "stream",
     "text": [
      "\n",
      " Fine tune GEI borders  \n",
      "\n"
     ]
    },
    {
     "name": "stderr",
     "output_type": "stream",
     "text": [
      "\n",
      "100%|██████████| 37/37 [00:03<00:00,  9.31it/s]\n",
      "Processing NC_010473.1|1|NC_010473.1: 100%|██████████| 1/1 [00:16<00:00, 16.41s/it]\n",
      "  8%|▊         | 2/24 [00:35<06:26, 17.57s/it]"
     ]
    },
    {
     "name": "stdout",
     "output_type": "stream",
     "text": [
      "--- finished predicting ---\n",
      "--- 16.42015790939331 seconds ---\n",
      "--- start predicting ---\n"
     ]
    },
    {
     "name": "stderr",
     "output_type": "stream",
     "text": [
      "Processing NC_007958.1|1|NC_007958.1:   0%|          | 0/1 [00:00<?, ?it/s]"
     ]
    },
    {
     "name": "stdout",
     "output_type": "stream",
     "text": [
      "\n",
      "-------- sequence 1-------- \n",
      "\n",
      "\n",
      " Preprocessing DNA segment \n",
      "\n"
     ]
    },
    {
     "name": "stderr",
     "output_type": "stream",
     "text": [
      "100%|██████████| 490/490 [00:00<00:00, 397833.71it/s]\n"
     ]
    },
    {
     "name": "stdout",
     "output_type": "stream",
     "text": [
      "\n",
      " Get DNA segment probability  \n",
      "\n",
      "positive ratio:  0.7122448979591837\n",
      "out of distribution:  False\n"
     ]
    },
    {
     "name": "stderr",
     "output_type": "stream",
     "text": [
      "100%|██████████| 490/490 [00:00<00:00, 1761104.51it/s]"
     ]
    },
    {
     "name": "stdout",
     "output_type": "stream",
     "text": [
      "\n",
      " Fine tune GEI borders  \n",
      "\n"
     ]
    },
    {
     "name": "stderr",
     "output_type": "stream",
     "text": [
      "\n",
      "100%|██████████| 102/102 [00:24<00:00,  4.16it/s]\n",
      "Processing NC_007958.1|1|NC_007958.1: 100%|██████████| 1/1 [00:45<00:00, 45.51s/it]\n",
      " 12%|█▎        | 3/24 [01:21<10:37, 30.36s/it]"
     ]
    },
    {
     "name": "stdout",
     "output_type": "stream",
     "text": [
      "--- finished predicting ---\n",
      "--- 45.52085494995117 seconds ---\n",
      "--- start predicting ---\n"
     ]
    },
    {
     "name": "stderr",
     "output_type": "stream",
     "text": [
      "Processing NC_009665.1|1|NC_009665.1:   0%|          | 0/1 [00:00<?, ?it/s]"
     ]
    },
    {
     "name": "stdout",
     "output_type": "stream",
     "text": [
      "\n",
      "-------- sequence 1-------- \n",
      "\n",
      "\n",
      " Preprocessing DNA segment \n",
      "\n"
     ]
    },
    {
     "name": "stderr",
     "output_type": "stream",
     "text": [
      "100%|██████████| 523/523 [00:00<00:00, 377040.39it/s]\n"
     ]
    },
    {
     "name": "stdout",
     "output_type": "stream",
     "text": [
      "\n",
      " Get DNA segment probability  \n",
      "\n",
      "positive ratio:  0.7284894837476099\n",
      "out of distribution:  False\n"
     ]
    },
    {
     "name": "stderr",
     "output_type": "stream",
     "text": [
      "100%|██████████| 523/523 [00:00<00:00, 1771907.10it/s]"
     ]
    },
    {
     "name": "stdout",
     "output_type": "stream",
     "text": [
      "\n",
      " Fine tune GEI borders  \n",
      "\n"
     ]
    },
    {
     "name": "stderr",
     "output_type": "stream",
     "text": [
      "\n",
      "100%|██████████| 104/104 [00:24<00:00,  4.19it/s]\n",
      "Processing NC_009665.1|1|NC_009665.1: 100%|██████████| 1/1 [00:47<00:00, 47.66s/it]\n",
      " 17%|█▋        | 4/24 [02:08<12:24, 37.23s/it]"
     ]
    },
    {
     "name": "stdout",
     "output_type": "stream",
     "text": [
      "--- finished predicting ---\n",
      "--- 47.676778078079224 seconds ---\n",
      "--- start predicting ---\n"
     ]
    },
    {
     "name": "stderr",
     "output_type": "stream",
     "text": [
      "Processing NC_010334.1|1|NC_010334.1:   0%|          | 0/1 [00:00<?, ?it/s]"
     ]
    },
    {
     "name": "stdout",
     "output_type": "stream",
     "text": [
      "\n",
      "-------- sequence 1-------- \n",
      "\n",
      "\n",
      " Preprocessing DNA segment \n",
      "\n"
     ]
    },
    {
     "name": "stderr",
     "output_type": "stream",
     "text": [
      "100%|██████████| 523/523 [00:00<00:00, 509315.30it/s]\n"
     ]
    },
    {
     "name": "stdout",
     "output_type": "stream",
     "text": [
      "\n",
      " Get DNA segment probability  \n",
      "\n",
      "positive ratio:  0.6711281070745698\n",
      "out of distribution:  False\n"
     ]
    },
    {
     "name": "stderr",
     "output_type": "stream",
     "text": [
      "100%|██████████| 523/523 [00:00<00:00, 1873288.64it/s]"
     ]
    },
    {
     "name": "stdout",
     "output_type": "stream",
     "text": [
      "\n",
      " Fine tune GEI borders  \n",
      "\n"
     ]
    },
    {
     "name": "stderr",
     "output_type": "stream",
     "text": [
      "\n",
      "100%|██████████| 105/105 [00:25<00:00,  4.14it/s]\n",
      "Processing NC_010334.1|1|NC_010334.1: 100%|██████████| 1/1 [00:47<00:00, 47.12s/it]\n",
      " 21%|██        | 5/24 [02:56<12:55, 40.81s/it]"
     ]
    },
    {
     "name": "stdout",
     "output_type": "stream",
     "text": [
      "--- finished predicting ---\n",
      "--- 47.12811899185181 seconds ---\n",
      "--- start predicting ---\n"
     ]
    },
    {
     "name": "stderr",
     "output_type": "stream",
     "text": [
      "Processing NC_007432.1|1|NC_007432.1:   0%|          | 0/1 [00:00<?, ?it/s]"
     ]
    },
    {
     "name": "stdout",
     "output_type": "stream",
     "text": [
      "\n",
      "-------- sequence 1-------- \n",
      "\n",
      "\n",
      " Preprocessing DNA segment \n",
      "\n"
     ]
    },
    {
     "name": "stderr",
     "output_type": "stream",
     "text": [
      "100%|██████████| 213/213 [00:00<00:00, 955493.85it/s]\n"
     ]
    },
    {
     "name": "stdout",
     "output_type": "stream",
     "text": [
      "\n",
      " Get DNA segment probability  \n",
      "\n",
      "positive ratio:  0.27699530516431925\n",
      "out of distribution:  False\n"
     ]
    },
    {
     "name": "stderr",
     "output_type": "stream",
     "text": [
      "100%|██████████| 213/213 [00:00<00:00, 2173690.39it/s]"
     ]
    },
    {
     "name": "stdout",
     "output_type": "stream",
     "text": [
      "\n",
      " Fine tune GEI borders  \n",
      "\n"
     ]
    },
    {
     "name": "stderr",
     "output_type": "stream",
     "text": [
      "\n",
      "100%|██████████| 21/21 [00:01<00:00, 10.67it/s]\n",
      "Processing NC_007432.1|1|NC_007432.1: 100%|██████████| 1/1 [00:08<00:00,  8.03s/it]\n",
      " 25%|██▌       | 6/24 [03:04<08:54, 29.68s/it]"
     ]
    },
    {
     "name": "stdout",
     "output_type": "stream",
     "text": [
      "--- finished predicting ---\n",
      "--- 8.0380117893219 seconds ---\n",
      "--- start predicting ---\n"
     ]
    },
    {
     "name": "stderr",
     "output_type": "stream",
     "text": [
      "Processing NC_009512.1|1|NC_009512.1:   0%|          | 0/1 [00:00<?, ?it/s]"
     ]
    },
    {
     "name": "stdout",
     "output_type": "stream",
     "text": [
      "\n",
      "-------- sequence 1-------- \n",
      "\n",
      "\n",
      " Preprocessing DNA segment \n",
      "\n"
     ]
    },
    {
     "name": "stderr",
     "output_type": "stream",
     "text": [
      "100%|██████████| 596/596 [00:00<00:00, 572693.05it/s]\n"
     ]
    },
    {
     "name": "stdout",
     "output_type": "stream",
     "text": [
      "\n",
      " Get DNA segment probability  \n",
      "\n",
      "positive ratio:  0.2063758389261745\n",
      "out of distribution:  False\n"
     ]
    },
    {
     "name": "stderr",
     "output_type": "stream",
     "text": [
      "100%|██████████| 596/596 [00:00<00:00, 2937491.40it/s]"
     ]
    },
    {
     "name": "stdout",
     "output_type": "stream",
     "text": [
      "\n",
      " Fine tune GEI borders  \n",
      "\n"
     ]
    },
    {
     "name": "stderr",
     "output_type": "stream",
     "text": [
      "\n",
      "100%|██████████| 44/44 [00:05<00:00,  7.89it/s]\n",
      "Processing NC_009512.1|1|NC_009512.1: 100%|██████████| 1/1 [00:21<00:00, 21.48s/it]\n",
      " 29%|██▉       | 7/24 [03:25<07:39, 27.01s/it]"
     ]
    },
    {
     "name": "stdout",
     "output_type": "stream",
     "text": [
      "--- finished predicting ---\n",
      "--- 21.486854076385498 seconds ---\n",
      "--- start predicting ---\n"
     ]
    },
    {
     "name": "stderr",
     "output_type": "stream",
     "text": [
      "Processing NC_009783.1|1|NC_009783.1:   0%|          | 0/1 [00:00<?, ?it/s]"
     ]
    },
    {
     "name": "stdout",
     "output_type": "stream",
     "text": [
      "\n",
      "-------- sequence 1-------- \n",
      "\n",
      "\n",
      " Preprocessing DNA segment \n",
      "\n"
     ]
    },
    {
     "name": "stderr",
     "output_type": "stream",
     "text": [
      "100%|██████████| 377/377 [00:00<00:00, 683046.48it/s]\n"
     ]
    },
    {
     "name": "stdout",
     "output_type": "stream",
     "text": [
      "\n",
      " Get DNA segment probability  \n",
      "\n",
      "positive ratio:  0.3183023872679045\n",
      "out of distribution:  False\n"
     ]
    },
    {
     "name": "stderr",
     "output_type": "stream",
     "text": [
      "100%|██████████| 377/377 [00:00<00:00, 2399472.85it/s]"
     ]
    },
    {
     "name": "stdout",
     "output_type": "stream",
     "text": [
      "\n",
      " Fine tune GEI borders  \n",
      "\n"
     ]
    },
    {
     "name": "stderr",
     "output_type": "stream",
     "text": [
      "\n",
      "100%|██████████| 40/40 [00:06<00:00,  6.00it/s]\n",
      "Processing NC_009783.1|1|NC_009783.1: 100%|██████████| 1/1 [00:18<00:00, 18.15s/it]\n",
      " 33%|███▎      | 8/24 [03:43<06:27, 24.21s/it]"
     ]
    },
    {
     "name": "stdout",
     "output_type": "stream",
     "text": [
      "--- finished predicting ---\n",
      "--- 18.160367250442505 seconds ---\n",
      "--- start predicting ---\n"
     ]
    },
    {
     "name": "stderr",
     "output_type": "stream",
     "text": [
      "Processing NC_010501.1|1|NC_010501.1:   0%|          | 0/1 [00:00<?, ?it/s]"
     ]
    },
    {
     "name": "stdout",
     "output_type": "stream",
     "text": [
      "\n",
      "-------- sequence 1-------- \n",
      "\n",
      "\n",
      " Preprocessing DNA segment \n",
      "\n"
     ]
    },
    {
     "name": "stderr",
     "output_type": "stream",
     "text": [
      "100%|██████████| 578/578 [00:00<00:00, 945886.74it/s]\n"
     ]
    },
    {
     "name": "stdout",
     "output_type": "stream",
     "text": [
      "\n",
      " Get DNA segment probability  \n",
      "\n",
      "positive ratio:  0.2975778546712803\n",
      "out of distribution:  False\n"
     ]
    },
    {
     "name": "stderr",
     "output_type": "stream",
     "text": [
      "100%|██████████| 578/578 [00:00<00:00, 2809163.05it/s]"
     ]
    },
    {
     "name": "stdout",
     "output_type": "stream",
     "text": [
      "\n",
      " Fine tune GEI borders  \n",
      "\n"
     ]
    },
    {
     "name": "stderr",
     "output_type": "stream",
     "text": [
      "\n",
      "100%|██████████| 60/60 [00:10<00:00,  5.95it/s]\n",
      "Processing NC_010501.1|1|NC_010501.1: 100%|██████████| 1/1 [00:26<00:00, 26.45s/it]\n",
      " 38%|███▊      | 9/24 [04:10<06:13, 24.93s/it]"
     ]
    },
    {
     "name": "stdout",
     "output_type": "stream",
     "text": [
      "--- finished predicting ---\n",
      "--- 26.46033024787903 seconds ---\n",
      "--- start predicting ---\n"
     ]
    },
    {
     "name": "stderr",
     "output_type": "stream",
     "text": [
      "Processing NC_008321.1|1|NC_008321.1:   0%|          | 0/1 [00:00<?, ?it/s]"
     ]
    },
    {
     "name": "stdout",
     "output_type": "stream",
     "text": [
      "\n",
      "-------- sequence 1-------- \n",
      "\n",
      "\n",
      " Preprocessing DNA segment \n",
      "\n"
     ]
    },
    {
     "name": "stderr",
     "output_type": "stream",
     "text": [
      "100%|██████████| 471/471 [00:00<00:00, 853355.16it/s]\n"
     ]
    },
    {
     "name": "stdout",
     "output_type": "stream",
     "text": [
      "\n",
      " Get DNA segment probability  \n",
      "\n",
      "positive ratio:  0.7133757961783439\n",
      "out of distribution:  False\n"
     ]
    },
    {
     "name": "stderr",
     "output_type": "stream",
     "text": [
      "100%|██████████| 471/471 [00:00<00:00, 1861938.91it/s]"
     ]
    },
    {
     "name": "stdout",
     "output_type": "stream",
     "text": [
      "\n",
      " Fine tune GEI borders  \n",
      "\n"
     ]
    },
    {
     "name": "stderr",
     "output_type": "stream",
     "text": [
      "\n",
      "100%|██████████| 96/96 [00:28<00:00,  3.37it/s]\n",
      "Processing NC_008321.1|1|NC_008321.1: 100%|██████████| 1/1 [00:47<00:00, 47.74s/it]\n",
      " 42%|████▏     | 10/24 [04:58<07:27, 31.99s/it]"
     ]
    },
    {
     "name": "stdout",
     "output_type": "stream",
     "text": [
      "--- finished predicting ---\n",
      "--- 47.751322984695435 seconds ---\n",
      "Predictions for NC_005071.1.fasta already exist\n",
      "--- start predicting ---\n"
     ]
    },
    {
     "name": "stderr",
     "output_type": "stream",
     "text": [
      "Processing NC_004116.1|1|NC_004116.1:   0%|          | 0/1 [00:00<?, ?it/s]"
     ]
    },
    {
     "name": "stdout",
     "output_type": "stream",
     "text": [
      "\n",
      "-------- sequence 1-------- \n",
      "\n",
      "\n",
      " Preprocessing DNA segment \n",
      "\n"
     ]
    },
    {
     "name": "stderr",
     "output_type": "stream",
     "text": [
      "100%|██████████| 217/217 [00:00<00:00, 214257.05it/s]\n"
     ]
    },
    {
     "name": "stdout",
     "output_type": "stream",
     "text": [
      "\n",
      " Get DNA segment probability  \n",
      "\n",
      "positive ratio:  0.34101382488479265\n",
      "out of distribution:  False\n"
     ]
    },
    {
     "name": "stderr",
     "output_type": "stream",
     "text": [
      "100%|██████████| 217/217 [00:00<00:00, 2151687.87it/s]"
     ]
    },
    {
     "name": "stdout",
     "output_type": "stream",
     "text": [
      "\n",
      " Fine tune GEI borders  \n",
      "\n"
     ]
    },
    {
     "name": "stderr",
     "output_type": "stream",
     "text": [
      "\n",
      "100%|██████████| 23/23 [00:03<00:00,  6.66it/s]\n",
      "Processing NC_004116.1|1|NC_004116.1: 100%|██████████| 1/1 [00:09<00:00,  9.60s/it]\n",
      " 50%|█████     | 12/24 [05:07<03:51, 19.26s/it]"
     ]
    },
    {
     "name": "stdout",
     "output_type": "stream",
     "text": [
      "--- finished predicting ---\n",
      "--- 9.610486030578613 seconds ---\n",
      "--- start predicting ---\n"
     ]
    },
    {
     "name": "stderr",
     "output_type": "stream",
     "text": [
      "Processing NC_008024.1|1|NC_008024.1:   0%|          | 0/1 [00:00<?, ?it/s]"
     ]
    },
    {
     "name": "stdout",
     "output_type": "stream",
     "text": [
      "\n",
      "-------- sequence 1-------- \n",
      "\n",
      "\n",
      " Preprocessing DNA segment \n",
      "\n"
     ]
    },
    {
     "name": "stderr",
     "output_type": "stream",
     "text": [
      "100%|██████████| 194/194 [00:00<00:00, 757630.33it/s]\n"
     ]
    },
    {
     "name": "stdout",
     "output_type": "stream",
     "text": [
      "\n",
      " Get DNA segment probability  \n",
      "\n",
      "positive ratio:  0.38144329896907214\n",
      "out of distribution:  False\n"
     ]
    },
    {
     "name": "stderr",
     "output_type": "stream",
     "text": [
      "100%|██████████| 194/194 [00:00<00:00, 2044459.74it/s]"
     ]
    },
    {
     "name": "stdout",
     "output_type": "stream",
     "text": [
      "\n",
      " Fine tune GEI borders  \n",
      "\n"
     ]
    },
    {
     "name": "stderr",
     "output_type": "stream",
     "text": [
      "\n",
      "100%|██████████| 17/17 [00:03<00:00,  5.48it/s]\n",
      "Processing NC_008024.1|1|NC_008024.1: 100%|██████████| 1/1 [00:08<00:00,  8.76s/it]\n",
      " 54%|█████▍    | 13/24 [05:16<03:02, 16.63s/it]"
     ]
    },
    {
     "name": "stdout",
     "output_type": "stream",
     "text": [
      "--- finished predicting ---\n",
      "--- 8.770516872406006 seconds ---\n",
      "--- start predicting ---\n"
     ]
    },
    {
     "name": "stderr",
     "output_type": "stream",
     "text": [
      "Processing NC_009504.1|1|NC_009504.1:   0%|          | 0/1 [00:00<?, ?it/s]"
     ]
    },
    {
     "name": "stdout",
     "output_type": "stream",
     "text": [
      "\n",
      "-------- sequence 1-------- \n",
      "\n",
      "\n",
      " Preprocessing DNA segment \n",
      "\n"
     ]
    },
    {
     "name": "stderr",
     "output_type": "stream",
     "text": [
      "100%|██████████| 117/117 [00:00<00:00, 812472.79it/s]\n"
     ]
    },
    {
     "name": "stdout",
     "output_type": "stream",
     "text": [
      "\n",
      " Get DNA segment probability  \n",
      "\n",
      "positive ratio:  0.6068376068376068\n",
      "out of distribution:  False\n"
     ]
    },
    {
     "name": "stderr",
     "output_type": "stream",
     "text": [
      "100%|██████████| 117/117 [00:00<00:00, 1426551.07it/s]"
     ]
    },
    {
     "name": "stdout",
     "output_type": "stream",
     "text": [
      "\n",
      " Fine tune GEI borders  \n",
      "\n"
     ]
    },
    {
     "name": "stderr",
     "output_type": "stream",
     "text": [
      "\n",
      "100%|██████████| 22/22 [00:04<00:00,  5.02it/s]\n",
      "Processing NC_009504.1|1|NC_009504.1: 100%|██████████| 1/1 [00:09<00:00,  9.06s/it]\n",
      " 58%|█████▊    | 14/24 [05:25<02:26, 14.65s/it]"
     ]
    },
    {
     "name": "stdout",
     "output_type": "stream",
     "text": [
      "--- finished predicting ---\n",
      "--- 9.068098068237305 seconds ---\n",
      "--- start predicting ---\n"
     ]
    },
    {
     "name": "stderr",
     "output_type": "stream",
     "text": [
      "Processing NC_010515.1|1|NC_010515.1:   0%|          | 0/1 [00:00<?, ?it/s]"
     ]
    },
    {
     "name": "stdout",
     "output_type": "stream",
     "text": [
      "\n",
      "-------- sequence 1-------- \n",
      "\n",
      "\n",
      " Preprocessing DNA segment \n",
      "\n"
     ]
    },
    {
     "name": "stderr",
     "output_type": "stream",
     "text": [
      "100%|██████████| 322/322 [00:00<00:00, 1065115.05it/s]\n"
     ]
    },
    {
     "name": "stdout",
     "output_type": "stream",
     "text": [
      "\n",
      " Get DNA segment probability  \n",
      "\n",
      "positive ratio:  0.7608695652173914\n",
      "out of distribution:  False\n"
     ]
    },
    {
     "name": "stderr",
     "output_type": "stream",
     "text": [
      "100%|██████████| 322/322 [00:00<00:00, 1619383.56it/s]"
     ]
    },
    {
     "name": "stdout",
     "output_type": "stream",
     "text": [
      "\n",
      " Fine tune GEI borders  \n",
      "\n"
     ]
    },
    {
     "name": "stderr",
     "output_type": "stream",
     "text": [
      "\n",
      "100%|██████████| 62/62 [00:14<00:00,  4.36it/s]\n",
      "Processing NC_010515.1|1|NC_010515.1: 100%|██████████| 1/1 [00:29<00:00, 29.17s/it]\n",
      " 62%|██████▎   | 15/24 [05:54<02:47, 18.63s/it]"
     ]
    },
    {
     "name": "stdout",
     "output_type": "stream",
     "text": [
      "--- finished predicting ---\n",
      "--- 29.17317295074463 seconds ---\n",
      "--- start predicting ---\n"
     ]
    },
    {
     "name": "stderr",
     "output_type": "stream",
     "text": [
      "Processing NC_010322.1|1|NC_010322.1:   0%|          | 0/1 [00:00<?, ?it/s]"
     ]
    },
    {
     "name": "stdout",
     "output_type": "stream",
     "text": [
      "\n",
      "-------- sequence 1-------- \n",
      "\n",
      "\n",
      " Preprocessing DNA segment \n",
      "\n"
     ]
    },
    {
     "name": "stderr",
     "output_type": "stream",
     "text": [
      "100%|██████████| 608/608 [00:00<00:00, 1034118.75it/s]\n"
     ]
    },
    {
     "name": "stdout",
     "output_type": "stream",
     "text": [
      "\n",
      " Get DNA segment probability  \n",
      "\n",
      "positive ratio:  0.18914473684210525\n",
      "out of distribution:  False\n"
     ]
    },
    {
     "name": "stderr",
     "output_type": "stream",
     "text": [
      "100%|██████████| 608/608 [00:00<00:00, 3183691.43it/s]"
     ]
    },
    {
     "name": "stdout",
     "output_type": "stream",
     "text": [
      "\n",
      " Fine tune GEI borders  \n",
      "\n"
     ]
    },
    {
     "name": "stderr",
     "output_type": "stream",
     "text": [
      "\n",
      "100%|██████████| 37/37 [00:04<00:00,  9.01it/s]\n",
      "Processing NC_010322.1|1|NC_010322.1: 100%|██████████| 1/1 [00:19<00:00, 19.47s/it]\n",
      " 67%|██████▋   | 16/24 [06:14<02:31, 18.88s/it]"
     ]
    },
    {
     "name": "stdout",
     "output_type": "stream",
     "text": [
      "--- finished predicting ---\n",
      "--- 19.483875036239624 seconds ---\n",
      "--- start predicting ---\n"
     ]
    },
    {
     "name": "stderr",
     "output_type": "stream",
     "text": [
      "Processing NC_009438.1|1|NC_009438.1:   0%|          | 0/1 [00:00<?, ?it/s]"
     ]
    },
    {
     "name": "stdout",
     "output_type": "stream",
     "text": [
      "\n",
      "-------- sequence 1-------- \n",
      "\n",
      "\n",
      " Preprocessing DNA segment \n",
      "\n"
     ]
    },
    {
     "name": "stderr",
     "output_type": "stream",
     "text": [
      "100%|██████████| 466/466 [00:00<00:00, 529543.66it/s]\n"
     ]
    },
    {
     "name": "stdout",
     "output_type": "stream",
     "text": [
      "\n",
      " Get DNA segment probability  \n",
      "\n",
      "positive ratio:  0.7296137339055794\n",
      "out of distribution:  False\n"
     ]
    },
    {
     "name": "stderr",
     "output_type": "stream",
     "text": [
      "100%|██████████| 466/466 [00:00<00:00, 1881179.66it/s]"
     ]
    },
    {
     "name": "stdout",
     "output_type": "stream",
     "text": [
      "\n",
      " Fine tune GEI borders  \n",
      "\n"
     ]
    },
    {
     "name": "stderr",
     "output_type": "stream",
     "text": [
      "\n",
      "100%|██████████| 94/94 [00:26<00:00,  3.59it/s]\n",
      "Processing NC_009438.1|1|NC_009438.1: 100%|██████████| 1/1 [00:46<00:00, 46.60s/it]\n",
      " 71%|███████   | 17/24 [07:01<03:07, 26.84s/it]"
     ]
    },
    {
     "name": "stdout",
     "output_type": "stream",
     "text": [
      "--- finished predicting ---\n",
      "--- 46.613094091415405 seconds ---\n",
      "--- start predicting ---\n"
     ]
    },
    {
     "name": "stderr",
     "output_type": "stream",
     "text": [
      "Processing NC_004603.1|1|NC_004603.1:   0%|          | 0/1 [00:00<?, ?it/s]"
     ]
    },
    {
     "name": "stdout",
     "output_type": "stream",
     "text": [
      "\n",
      "-------- sequence 1-------- \n",
      "\n",
      "\n",
      " Preprocessing DNA segment \n",
      "\n"
     ]
    },
    {
     "name": "stderr",
     "output_type": "stream",
     "text": [
      "100%|██████████| 329/329 [00:00<00:00, 587702.73it/s]\n"
     ]
    },
    {
     "name": "stdout",
     "output_type": "stream",
     "text": [
      "\n",
      " Get DNA segment probability  \n",
      "\n",
      "positive ratio:  0.2674772036474164\n",
      "out of distribution:  False\n"
     ]
    },
    {
     "name": "stderr",
     "output_type": "stream",
     "text": [
      "100%|██████████| 329/329 [00:00<00:00, 2346812.95it/s]"
     ]
    },
    {
     "name": "stdout",
     "output_type": "stream",
     "text": [
      "\n",
      " Fine tune GEI borders  \n",
      "\n"
     ]
    },
    {
     "name": "stderr",
     "output_type": "stream",
     "text": [
      "\n",
      "100%|██████████| 28/28 [00:05<00:00,  4.95it/s]\n",
      "Processing NC_004603.1|1|NC_004603.1: 100%|██████████| 1/1 [00:14<00:00, 14.58s/it]\n",
      " 75%|███████▌  | 18/24 [07:15<02:19, 23.29s/it]"
     ]
    },
    {
     "name": "stdout",
     "output_type": "stream",
     "text": [
      "--- finished predicting ---\n",
      "--- 14.588462114334106 seconds ---\n",
      "--- start predicting ---\n"
     ]
    },
    {
     "name": "stderr",
     "output_type": "stream",
     "text": [
      "Processing NC_009342.1|1|NC_009342.1:   0%|          | 0/1 [00:00<?, ?it/s]"
     ]
    },
    {
     "name": "stdout",
     "output_type": "stream",
     "text": [
      "\n",
      "-------- sequence 1-------- \n",
      "\n",
      "\n",
      " Preprocessing DNA segment \n",
      "\n"
     ]
    },
    {
     "name": "stderr",
     "output_type": "stream",
     "text": [
      "100%|██████████| 332/332 [00:00<00:00, 290226.95it/s]\n"
     ]
    },
    {
     "name": "stdout",
     "output_type": "stream",
     "text": [
      "\n",
      " Get DNA segment probability  \n",
      "\n",
      "positive ratio:  0.10843373493975904\n",
      "out of distribution:  False\n"
     ]
    },
    {
     "name": "stderr",
     "output_type": "stream",
     "text": [
      "100%|██████████| 332/332 [00:00<00:00, 2578720.24it/s]"
     ]
    },
    {
     "name": "stdout",
     "output_type": "stream",
     "text": [
      "\n",
      " Fine tune GEI borders  \n",
      "\n"
     ]
    },
    {
     "name": "stderr",
     "output_type": "stream",
     "text": [
      "\n",
      "100%|██████████| 15/15 [00:02<00:00,  6.46it/s]\n",
      "Processing NC_009342.1|1|NC_009342.1: 100%|██████████| 1/1 [00:10<00:00, 10.41s/it]\n",
      " 79%|███████▉  | 19/24 [07:26<01:37, 19.53s/it]"
     ]
    },
    {
     "name": "stdout",
     "output_type": "stream",
     "text": [
      "--- finished predicting ---\n",
      "--- 10.416185855865479 seconds ---\n",
      "--- start predicting ---\n"
     ]
    },
    {
     "name": "stderr",
     "output_type": "stream",
     "text": [
      "Processing NC_007606.1|1|NC_007606.1:   0%|          | 0/1 [00:00<?, ?it/s]"
     ]
    },
    {
     "name": "stdout",
     "output_type": "stream",
     "text": [
      "\n",
      "-------- sequence 1-------- \n",
      "\n",
      "\n",
      " Preprocessing DNA segment \n",
      "\n"
     ]
    },
    {
     "name": "stderr",
     "output_type": "stream",
     "text": [
      "100%|██████████| 437/437 [00:00<00:00, 908280.90it/s]\n"
     ]
    },
    {
     "name": "stdout",
     "output_type": "stream",
     "text": [
      "\n",
      " Get DNA segment probability  \n",
      "\n",
      "positive ratio:  0.3135011441647597\n",
      "out of distribution:  False\n"
     ]
    },
    {
     "name": "stderr",
     "output_type": "stream",
     "text": [
      "100%|██████████| 437/437 [00:00<00:00, 2528152.89it/s]"
     ]
    },
    {
     "name": "stdout",
     "output_type": "stream",
     "text": [
      "\n",
      " Fine tune GEI borders  \n",
      "\n"
     ]
    },
    {
     "name": "stderr",
     "output_type": "stream",
     "text": [
      "\n",
      "100%|██████████| 64/64 [00:09<00:00,  6.65it/s]\n",
      "Processing NC_007606.1|1|NC_007606.1: 100%|██████████| 1/1 [00:22<00:00, 22.73s/it]\n",
      " 83%|████████▎ | 20/24 [07:49<01:21, 20.49s/it]"
     ]
    },
    {
     "name": "stdout",
     "output_type": "stream",
     "text": [
      "--- finished predicting ---\n",
      "--- 22.735143899917603 seconds ---\n",
      "--- start predicting ---\n"
     ]
    },
    {
     "name": "stderr",
     "output_type": "stream",
     "text": [
      "Processing NC_004070.1|1|NC_004070.1:   0%|          | 0/1 [00:00<?, ?it/s]"
     ]
    },
    {
     "name": "stdout",
     "output_type": "stream",
     "text": [
      "\n",
      "-------- sequence 1-------- \n",
      "\n",
      "\n",
      " Preprocessing DNA segment \n",
      "\n"
     ]
    },
    {
     "name": "stderr",
     "output_type": "stream",
     "text": [
      "100%|██████████| 191/191 [00:00<00:00, 838860.80it/s]\n"
     ]
    },
    {
     "name": "stdout",
     "output_type": "stream",
     "text": [
      "\n",
      " Get DNA segment probability  \n",
      "\n",
      "positive ratio:  0.3298429319371728\n",
      "out of distribution:  False\n"
     ]
    },
    {
     "name": "stderr",
     "output_type": "stream",
     "text": [
      "100%|██████████| 191/191 [00:00<00:00, 2048879.96it/s]"
     ]
    },
    {
     "name": "stdout",
     "output_type": "stream",
     "text": [
      "\n",
      " Fine tune GEI borders  \n",
      "\n"
     ]
    },
    {
     "name": "stderr",
     "output_type": "stream",
     "text": [
      "\n",
      "100%|██████████| 15/15 [00:02<00:00,  5.51it/s]\n",
      "Processing NC_004070.1|1|NC_004070.1: 100%|██████████| 1/1 [00:08<00:00,  8.41s/it]\n",
      " 88%|████████▊ | 21/24 [07:57<00:50, 16.91s/it]"
     ]
    },
    {
     "name": "stdout",
     "output_type": "stream",
     "text": [
      "--- finished predicting ---\n",
      "--- 8.413859844207764 seconds ---\n",
      "--- start predicting ---\n"
     ]
    },
    {
     "name": "stderr",
     "output_type": "stream",
     "text": [
      "Processing NC_008563.1|1|NC_008563.1:   0%|          | 0/1 [00:00<?, ?it/s]"
     ]
    },
    {
     "name": "stdout",
     "output_type": "stream",
     "text": [
      "\n",
      "-------- sequence 1-------- \n",
      "\n",
      "\n",
      " Preprocessing DNA segment \n",
      "\n"
     ]
    },
    {
     "name": "stderr",
     "output_type": "stream",
     "text": [
      "100%|██████████| 509/509 [00:00<00:00, 977071.28it/s]\n"
     ]
    },
    {
     "name": "stdout",
     "output_type": "stream",
     "text": [
      "\n",
      " Get DNA segment probability  \n",
      "\n",
      "positive ratio:  0.2730844793713163\n",
      "out of distribution:  False\n"
     ]
    },
    {
     "name": "stderr",
     "output_type": "stream",
     "text": [
      "100%|██████████| 509/509 [00:00<00:00, 2740565.77it/s]"
     ]
    },
    {
     "name": "stdout",
     "output_type": "stream",
     "text": [
      "\n",
      " Fine tune GEI borders  \n",
      "\n"
     ]
    },
    {
     "name": "stderr",
     "output_type": "stream",
     "text": [
      "\n",
      "100%|██████████| 36/36 [00:06<00:00,  5.36it/s]\n",
      "Processing NC_008563.1|1|NC_008563.1: 100%|██████████| 1/1 [00:22<00:00, 22.03s/it]\n",
      " 92%|█████████▏| 22/24 [08:19<00:36, 18.45s/it]"
     ]
    },
    {
     "name": "stdout",
     "output_type": "stream",
     "text": [
      "--- finished predicting ---\n",
      "--- 22.042513847351074 seconds ---\n",
      "--- start predicting ---\n"
     ]
    },
    {
     "name": "stderr",
     "output_type": "stream",
     "text": [
      "Processing NC_009708.1|1|NC_009708.1:   0%|          | 0/1 [00:00<?, ?it/s]"
     ]
    },
    {
     "name": "stdout",
     "output_type": "stream",
     "text": [
      "\n",
      "-------- sequence 1-------- \n",
      "\n",
      "\n",
      " Preprocessing DNA segment \n",
      "\n"
     ]
    },
    {
     "name": "stderr",
     "output_type": "stream",
     "text": [
      "100%|██████████| 473/473 [00:00<00:00, 195941.31it/s]\n"
     ]
    },
    {
     "name": "stdout",
     "output_type": "stream",
     "text": [
      "\n",
      " Get DNA segment probability  \n",
      "\n",
      "positive ratio:  0.4143763213530655\n",
      "out of distribution:  False\n"
     ]
    },
    {
     "name": "stderr",
     "output_type": "stream",
     "text": [
      "100%|██████████| 473/473 [00:00<00:00, 2413510.70it/s]"
     ]
    },
    {
     "name": "stdout",
     "output_type": "stream",
     "text": [
      "\n",
      " Fine tune GEI borders  \n",
      "\n"
     ]
    },
    {
     "name": "stderr",
     "output_type": "stream",
     "text": [
      "\n",
      "100%|██████████| 68/68 [00:11<00:00,  6.07it/s]\n",
      "Processing NC_009708.1|1|NC_009708.1: 100%|██████████| 1/1 [00:27<00:00, 27.12s/it]\n",
      " 96%|█████████▌| 23/24 [08:46<00:21, 21.05s/it]"
     ]
    },
    {
     "name": "stdout",
     "output_type": "stream",
     "text": [
      "--- finished predicting ---\n",
      "--- 27.125896215438843 seconds ---\n",
      "--- start predicting ---\n"
     ]
    },
    {
     "name": "stderr",
     "output_type": "stream",
     "text": [
      "Processing NC_010380.1|1|NC_010380.1:   0%|          | 0/1 [00:00<?, ?it/s]"
     ]
    },
    {
     "name": "stdout",
     "output_type": "stream",
     "text": [
      "\n",
      "-------- sequence 1-------- \n",
      "\n",
      "\n",
      " Preprocessing DNA segment \n",
      "\n"
     ]
    },
    {
     "name": "stderr",
     "output_type": "stream",
     "text": [
      "100%|██████████| 225/225 [00:00<00:00, 974915.70it/s]\n"
     ]
    },
    {
     "name": "stdout",
     "output_type": "stream",
     "text": [
      "\n",
      " Get DNA segment probability  \n",
      "\n",
      "positive ratio:  0.6311111111111111\n",
      "out of distribution:  False\n"
     ]
    },
    {
     "name": "stderr",
     "output_type": "stream",
     "text": [
      "100%|██████████| 225/225 [00:00<00:00, 1618727.96it/s]"
     ]
    },
    {
     "name": "stdout",
     "output_type": "stream",
     "text": [
      "\n",
      " Fine tune GEI borders  \n",
      "\n"
     ]
    },
    {
     "name": "stderr",
     "output_type": "stream",
     "text": [
      "\n",
      "100%|██████████| 44/44 [00:10<00:00,  4.21it/s]\n",
      "Processing NC_010380.1|1|NC_010380.1: 100%|██████████| 1/1 [00:19<00:00, 19.00s/it]\n",
      "100%|██████████| 24/24 [09:05<00:00, 22.74s/it]"
     ]
    },
    {
     "name": "stdout",
     "output_type": "stream",
     "text": [
      "--- finished predicting ---\n",
      "--- 19.010355949401855 seconds ---\n"
     ]
    },
    {
     "name": "stderr",
     "output_type": "stream",
     "text": [
      "\n"
     ]
    }
   ],
   "source": [
    "#folder containing genomes of interest \n",
    "# (\"dataset/genomes/benbow_test\",\"dataset/genomes/literature\" )\n",
    "genome_path = \"dataset/genomes/benbow_test\" \n",
    "files = [f for f in os.listdir(genome_path) if os.path.isfile(os.path.join(genome_path, f))]\n",
    "\n",
    "# path to load the saved model: hpc_job/utils/models/\n",
    "# \"benbow_SVM_RCKmer_7_fine_tuned_literature.pkl\", \"benbow_SVM_RCKmer_7_fine_tuned_benbow.pkl\"\n",
    "model_file = \"benbow_SVM_RCKmer_7_fine_tuned_benbow.pkl\" \n",
    "\n",
    "# path to save the predictions\n",
    "output_path = \"outputs\"\n",
    "output_path = os.path.join(output_path, genome_path.split('/')[-1], model_file.split('.')[0])\n",
    "\n",
    "# parameters for data representation\n",
    "data_rep_params = {\n",
    "                'encoding':'RCKmer',\n",
    "                'encoding_params':{'kmer':7}\n",
    "            }\n",
    "\n",
    "if not os.path.exists(output_path):\n",
    "    os.makedirs(output_path)\n",
    "\n",
    "#run the following code only if the predictions do not exist for the specified genomes and model\n",
    "for file in tqdm(files):\n",
    "    #accept fasta file only\n",
    "    if file.endswith('.fasta'):\n",
    "        filename = os.path.join(genome_path,file)\n",
    "\n",
    "        #create a folder for each genome\n",
    "        output_dest = os.path.join(output_path, file.split('.')[0])\n",
    "        if not os.path.exists(output_dest):\n",
    "            os.mkdir(output_dest)\n",
    "\n",
    "            #initialize the predicor\n",
    "            seq = Predictor(filename, output_file_path=output_dest, model_file=model_file)\n",
    "            \n",
    "            #update the representation according to the trained model\n",
    "            params = data_rep_params\n",
    "\n",
    "            seq.change_encoding_parameters(params)\n",
    "            #seq.change_upper_threshold(0.9)\n",
    "\n",
    "            #run the predictor\n",
    "            pred = seq.predict()\n",
    "            \n",
    "            #save predictions to excel file\n",
    "            seq.predictions_to_excel(pred)\n",
    "        else:\n",
    "            print(\"Predictions for {} already exist\".format(file))\n",
    "    else:\n",
    "        print(\"The code only accepts fasta file!\")"
   ]
  },
  {
   "cell_type": "code",
   "execution_count": null,
   "metadata": {},
   "outputs": [],
   "source": [
    "#read predictions for each genome, then combine them into a file\n",
    "results = pd.DataFrame()\n",
    "results_dest = '{}/{}.xlsx'.format(output_path, model_file.split('.')[0])\n",
    "\n",
    "for dir in os.listdir(output_path):\n",
    "    child_dirs = os.path.join(output_path,dir)\n",
    "    for file in os.listdir(child_dirs):\n",
    "        #if 'out' not in file:\n",
    "            res = pd.read_excel(os.path.join(child_dirs,file))\n",
    "            res = res.drop(res.columns[0], axis=1)\n",
    "            res = res.assign(Genome=dir)\n",
    "            results = pd.concat([results,res])\n",
    "\n",
    "results = results.rename(columns={'accession':'Accession','start':'Start','end':'End'})\n",
    "results = results[results['probability']>0.5]\n",
    "results['Accession'] = results.apply(lambda x: x['Accession'].split('|')[0],axis=1)\n",
    "results.to_excel(results_dest, index=False)"
   ]
  },
  {
   "cell_type": "markdown",
   "metadata": {},
   "source": [
    "### copy the above results to the folder outputs/literature_predictions for evaluation\n",
    "Results:\n",
    "- literature: outputs/literature_predictions/benbow_SVM_RCKmer_7_fine_tuned_literature.xlsx\n",
    "- benbow_test: outputs/literature_predictions/benbow_SVM_RCKmer_7_fine_tuned_test_benbow.xlsx"
   ]
  },
  {
   "cell_type": "markdown",
   "metadata": {},
   "source": [
    "## Evaluate Boundaries Prediction"
   ]
  },
  {
   "cell_type": "code",
   "execution_count": 6,
   "metadata": {},
   "outputs": [
    {
     "name": "stdout",
     "output_type": "stream",
     "text": [
      "evaluation of literature data\n",
      "---------------\n",
      "alien_hunter\n",
      "{'NC_004431.1': [{'TP': 552951}, {'FP': 25986}, {'TN': 497212}, {'FN': 243868}, {'Precision': 0.9551142870467771}, {'Recall': 0.6939480609774616}, {'F-Score': 0.8038503920753389}, {'Accuracy': 0.7955677843542924}, {'MCC': 0.6350963622480542}], 'NC_002695.1': [{'TP': 534686}, {'FP': 27825}, {'TN': 486507}, {'FN': 347229}, {'Precision': 0.9505343006625648}, {'Recall': 0.6062783828373483}, {'F-Score': 0.7403439151607628}, {'Accuracy': 0.7313842035112699}, {'MCC': 0.5430443547116833}], 'NC_003198.1': [{'TP': 450504}, {'FP': 32873}, {'TN': 515842}, {'FN': 183190}, {'Precision': 0.9319930406287432}, {'Recall': 0.7109172565938765}, {'F-Score': 0.8065807813469331}, {'Accuracy': 0.8172688130756786}, {'MCC': 0.6604016515537388}], 'NC_003923.1': [{'TP': 5000}, {'FP': 31830}, {'TN': 240519}, {'FN': 212639}, {'Precision': 0.13575889220743959}, {'Recall': 0.022973823625361264}, {'F-Score': 0.03929751757581473}, {'Accuracy': 0.5010714548111382}, {'MCC': -0.1769551456656113}], 'NC_004070.1': [{'TP': 154120}, {'FP': 61252}, {'TN': 134155}, {'FN': 79880}, {'Precision': 0.7155990565161674}, {'Recall': 0.6586324786324786}, {'F-Score': 0.6859350382311314}, {'Accuracy': 0.6713327915008372}, {'MCC': 0.3437786650984156}], 'NC_004603.1': [{'TP': 218568}, {'FP': 44970}, {'TN': 92782}, {'FN': 81171}, {'Precision': 0.8293604717346265}, {'Recall': 0.7291943991272407}, {'F-Score': 0.776058670955853}, {'Accuracy': 0.7116717829623924}, {'MCC': 0.3822132861929601}]}\n",
      "---------------\n",
      "mcc =  0.3979298623565401\n",
      "f-score =  0.6420110525576389\n",
      "accuracy =  0.704716138369268\n",
      "precision =  0.7530600081327198\n",
      "recall =  0.5703240669656278\n",
      "---------------\n",
      "islander\n",
      "{'NC_004431.1': [{'TP': 371067}, {'FP': 0}, {'TN': 523198}, {'FN': 425752}, {'Precision': 1.0}, {'Recall': 0.4656854316977883}, {'F-Score': 0.6354507203614052}, {'Accuracy': 0.6774647599235465}, {'MCC': 0.5067079269401703}], 'NC_002695.1': [{'TP': 235201}, {'FP': 0}, {'TN': 514332}, {'FN': 646714}, {'Precision': 1.0}, {'Recall': 0.2666935022082627}, {'F-Score': 0.421086082376405}, {'Accuracy': 0.5368197747246727}, {'MCC': 0.34371879194997146}], 'NC_003198.1': [{'TP': 144489}, {'FP': 0}, {'TN': 548715}, {'FN': 489205}, {'Precision': 1.0}, {'Recall': 0.22801068023367746}, {'F-Score': 0.37134966967924}, {'Accuracy': 0.5862641437945754}, {'MCC': 0.3471914895321036}], 'NC_003923.1': [{'TP': 14435}, {'FP': 0}, {'TN': 272349}, {'FN': 203204}, {'Precision': 1.0}, {'Recall': 0.06632542880641797}, {'F-Score': 0.12439997586976569}, {'Accuracy': 0.5852878029666032}, {'MCC': 0.19489624098749672}], 'NC_004070.1': [{'TP': 38141}, {'FP': 0}, {'TN': 195407}, {'FN': 195859}, {'Precision': 1.0}, {'Recall': 0.1629957264957265}, {'F-Score': 0.28030322516636597}, {'Accuracy': 0.5438849389972683}, {'MCC': 0.2853133626978573}], 'NC_004603.1': [{'TP': 50615}, {'FP': 0}, {'TN': 137752}, {'FN': 249124}, {'Precision': 1.0}, {'Recall': 0.16886357797950885}, {'F-Score': 0.28893633296608573}, {'Accuracy': 0.4305620001325742}, {'MCC': 0.24520597898537114}]}\n",
      "---------------\n",
      "mcc =  0.3205056318488284\n",
      "f-score =  0.3535876677365446\n",
      "accuracy =  0.56004723675654\n",
      "precision =  1.0\n",
      "recall =  0.22642905790356363\n",
      "---------------\n",
      "islandpath_dimob\n",
      "{'NC_004431.1': [{'TP': 561480}, {'FP': 3651}, {'TN': 519547}, {'FN': 235339}, {'Precision': 0.9935395510067577}, {'Recall': 0.7046518720060642}, {'F-Score': 0.8245236609273469}, {'Accuracy': 0.8189493014105121}, {'MCC': 0.6896836620528958}], 'NC_002695.1': [{'TP': 481419}, {'FP': 0}, {'TN': 514332}, {'FN': 400496}, {'Precision': 1.0}, {'Recall': 0.5458791380121667}, {'F-Score': 0.7062377964607351}, {'Accuracy': 0.713162499185316}, {'MCC': 0.5539879228354354}], 'NC_003198.1': [{'TP': 338654}, {'FP': 2625}, {'TN': 546090}, {'FN': 295040}, {'Precision': 0.9923083459574131}, {'Recall': 0.5344125082453045}, {'F-Score': 0.6946941094779034}, {'Accuracy': 0.7482554682855087}, {'MCC': 0.5829056996617825}], 'NC_003923.1': [{'TP': 93912}, {'FP': 0}, {'TN': 272349}, {'FN': 123727}, {'Precision': 1.0}, {'Recall': 0.4315035448609854}, {'F-Score': 0.6028675882921255}, {'Accuracy': 0.7474897344424761}, {'MCC': 0.5447105825187222}], 'NC_004070.1': [{'TP': 80827}, {'FP': 0}, {'TN': 195407}, {'FN': 153173}, {'Precision': 1.0}, {'Recall': 0.3454145299145299}, {'F-Score': 0.5134693021881859}, {'Accuracy': 0.643291795429511}, {'MCC': 0.44003693091054813}], 'NC_004603.1': [{'TP': 93349}, {'FP': 0}, {'TN': 137752}, {'FN': 206390}, {'Precision': 1.0}, {'Recall': 0.31143428115794075}, {'F-Score': 0.4749521735591013}, {'Accuracy': 0.5282417238297473}, {'MCC': 0.3530720387216351}]}\n",
      "---------------\n",
      "mcc =  0.5273994727835033\n",
      "f-score =  0.6361241051508997\n",
      "accuracy =  0.6998984204305119\n",
      "precision =  0.9976413161606952\n",
      "recall =  0.47888264569949857\n",
      "---------------\n",
      "islandviewer\n",
      "{'NC_004431.1': [{'TP': 703574}, {'FP': 3651}, {'TN': 519547}, {'FN': 93245}, {'Precision': 0.9948375693732546}, {'Recall': 0.8829784430341144}, {'F-Score': 0.9355763528194654}, {'Accuracy': 0.9265948847628478}, {'MCC': 0.8591752155235518}], 'NC_002695.1': [{'TP': 738005}, {'FP': 0}, {'TN': 514332}, {'FN': 143910}, {'Precision': 1.0}, {'Recall': 0.8368210088273813}, {'F-Score': 0.9111622796187466}, {'Accuracy': 0.8969308438979636}, {'MCC': 0.8086214646484146}], 'NC_003198.1': [{'TP': 417896}, {'FP': 2625}, {'TN': 546090}, {'FN': 215798}, {'Precision': 0.9937577433707234}, {'Recall': 0.6594602442188185}, {'F-Score': 0.7928098158345309}, {'Accuracy': 0.8152728878078567}, {'MCC': 0.6820252425447091}], 'NC_003923.1': [{'TP': 100293}, {'FP': 0}, {'TN': 272349}, {'FN': 117346}, {'Precision': 1.0}, {'Recall': 0.46082273857167144}, {'F-Score': 0.6309084961564108}, {'Accuracy': 0.7605125023469963}, {'MCC': 0.5675020386029594}], 'NC_004070.1': [{'TP': 124735}, {'FP': 0}, {'TN': 195407}, {'FN': 109265}, {'Precision': 1.0}, {'Recall': 0.5330555555555555}, {'F-Score': 0.6954158362022106}, {'Accuracy': 0.7455444368629296}, {'MCC': 0.5847093301262395}], 'NC_004603.1': [{'TP': 192307}, {'FP': 0}, {'TN': 137752}, {'FN': 107432}, {'Precision': 1.0}, {'Recall': 0.6415815092463777}, {'F-Score': 0.7816626900736923}, {'Accuracy': 0.7544360912567344}, {'MCC': 0.6003835894169518}]}\n",
      "---------------\n",
      "mcc =  0.683736146810471\n",
      "f-score =  0.7912559117841761\n",
      "accuracy =  0.8165486078225549\n",
      "precision =  0.9980992187906631\n",
      "recall =  0.6691199165756533\n",
      "---------------\n",
      "sigi_hmm\n",
      "{'NC_004431.1': [{'TP': 145124}, {'FP': 0}, {'TN': 523198}, {'FN': 651695}, {'Precision': 1.0}, {'Recall': 0.18212919119649507}, {'F-Score': 0.30813754123126347}, {'Accuracy': 0.5062980249496787}, {'MCC': 0.2847892939722333}], 'NC_002695.1': [{'TP': 243675}, {'FP': 0}, {'TN': 514332}, {'FN': 638240}, {'Precision': 1.0}, {'Recall': 0.2763021379611414}, {'F-Score': 0.43297292975239654}, {'Accuracy': 0.5428889014622771}, {'MCC': 0.35113964281345084}], 'NC_003198.1': [{'TP': 145552}, {'FP': 0}, {'TN': 548715}, {'FN': 488142}, {'Precision': 1.0}, {'Recall': 0.22968814601369114}, {'F-Score': 0.3735713754064826}, {'Accuracy': 0.5871631558961409}, {'MCC': 0.34864486681560336}], 'NC_003923.1': [{'TP': 0}, {'FP': 0}, {'TN': 272349}, {'FN': 217639}, {'Precision': 1}, {'Recall': 0.0}, {'F-Score': 0.0}, {'Accuracy': 0.5558278978260692}, {'MCC': 0}], 'NC_004070.1': [{'TP': 14707}, {'FP': 0}, {'TN': 195407}, {'FN': 219293}, {'Precision': 1.0}, {'Recall': 0.06285042735042735}, {'F-Score': 0.1182676804432525}, {'Accuracy': 0.4893120046948466}, {'MCC': 0.17209060383360616}], 'NC_004603.1': [{'TP': 143330}, {'FP': 0}, {'TN': 137752}, {'FN': 156409}, {'Precision': 1.0}, {'Recall': 0.4781826856031414}, {'F-Score': 0.6469872638347526}, {'Accuracy': 0.6424863597193999}, {'MCC': 0.4732093676050058}]}\n",
      "---------------\n",
      "mcc =  0.2716456291733166\n",
      "f-score =  0.3133227984446913\n",
      "accuracy =  0.5539960574247355\n",
      "precision =  1.0\n",
      "recall =  0.20485876468748274\n",
      "---------------\n",
      "islandpick\n",
      "{'NC_004431.1': [{'TP': 230936}, {'FP': 0}, {'TN': 523198}, {'FN': 565883}, {'Precision': 1.0}, {'Recall': 0.28982240634322226}, {'F-Score': 0.44939893262499336}, {'Accuracy': 0.57130627863126}, {'MCC': 0.37313752439969505}], 'NC_002695.1': [{'TP': 277805}, {'FP': 0}, {'TN': 514332}, {'FN': 604110}, {'Precision': 1.0}, {'Recall': 0.3150020126656197}, {'F-Score': 0.4790897802917946}, {'Accuracy': 0.5673330005364381}, {'MCC': 0.38060255847688457}], 'NC_003198.1': [{'TP': 91838}, {'FP': 0}, {'TN': 548715}, {'FN': 541856}, {'Precision': 1.0}, {'Recall': 0.1449248375398852}, {'F-Score': 0.2531604395119719}, {'Accuracy': 0.5417355585080966}, {'MCC': 0.27003363018644605}], 'NC_003923.1': [{'TP': 0}, {'FP': 0}, {'TN': 272349}, {'FN': 217639}, {'Precision': 1}, {'Recall': 0.0}, {'F-Score': 0.0}, {'Accuracy': 0.5558278978260692}, {'MCC': 0}], 'NC_004070.1': [{'TP': 4743}, {'FP': 0}, {'TN': 195407}, {'FN': 229257}, {'Precision': 1.0}, {'Recall': 0.02026923076923077}, {'F-Score': 0.039733102122365895}, {'Accuracy': 0.46610791160833426}, {'MCC': 0.09657527848917961}], 'NC_004603.1': [{'TP': 56791}, {'FP': 0}, {'TN': 137752}, {'FN': 242948}, {'Precision': 1.0}, {'Recall': 0.1894681706417917}, {'F-Score': 0.3185762768911452}, {'Accuracy': 0.44467886196516043}, {'MCC': 0.2618337640477221}]}\n",
      "---------------\n",
      "mcc =  0.23036379259998788\n",
      "f-score =  0.2566597552403785\n",
      "accuracy =  0.5244982515125598\n",
      "precision =  1.0\n",
      "recall =  0.1599144429932916\n",
      "---------------\n",
      "treasure_island_literature\n",
      "{'NC_004431.1': [{'TP': 754141}, {'FP': 16580}, {'TN': 506618}, {'FN': 42678}, {'Precision': 0.978487675825623}, {'Recall': 0.9464395301818858}, {'F-Score': 0.9621968179440398}, {'Accuracy': 0.955108153910139}, {'MCC': 0.9077440063886615}], 'NC_002695.1': [{'TP': 840179}, {'FP': 8368}, {'TN': 505964}, {'FN': 41736}, {'Precision': 0.99013843664523}, {'Recall': 0.9526757113780806}, {'F-Score': 0.9710458825446615}, {'Accuracy': 0.9641152317605696}, {'MCC': 0.9251028810119643}], 'NC_003198.1': [{'TP': 553817}, {'FP': 14644}, {'TN': 534071}, {'FN': 79877}, {'Precision': 0.974239217817933}, {'Recall': 0.8739502030948691}, {'F-Score': 0.9213736997309}, {'Accuracy': 0.9200606558305967}, {'MCC': 0.8456974354479465}], 'NC_003923.1': [{'TP': 216209}, {'FP': 30435}, {'TN': 241914}, {'FN': 1430}, {'Precision': 0.8766035257293914}, {'Recall': 0.9934294864431467}, {'F-Score': 0.9313672910703171}, {'Accuracy': 0.9349677951296766}, {'MCC': 0.8761861669691272}], 'NC_004070.1': [{'TP': 227138}, {'FP': 1180}, {'TN': 194227}, {'FN': 6862}, {'Precision': 0.9948317697246822}, {'Recall': 0.9706752136752137}, {'F-Score': 0.9826050467427183}, {'Accuracy': 0.9812718469889872}, {'MCC': 0.9626700512815768}], 'NC_004603.1': [{'TP': 237817}, {'FP': 14389}, {'TN': 123363}, {'FN': 61922}, {'Precision': 0.9429474318612563}, {'Recall': 0.7934136031680896}, {'F-Score': 0.8617416590421147}, {'Accuracy': 0.8255712688946744}, {'MCC': 0.6476126861623193}]}\n",
      "---------------\n",
      "mcc =  0.8608355378769326\n",
      "f-score =  0.9383883995124584\n",
      "accuracy =  0.9301824920857739\n",
      "precision =  0.9595413429340193\n",
      "recall =  0.9217639579902143\n",
      "---------------\n",
      "fine_tuned_model_literature\n",
      "{'NC_004431.1': [{'TP': 761520}, {'FP': 0}, {'TN': 523198}, {'FN': 35299}, {'Precision': 1.0}, {'Recall': 0.9557001025326957}, {'F-Score': 0.9773483176638716}, {'Accuracy': 0.9732586777291504}, {'MCC': 0.9462010629083971}], 'NC_002695.1': [{'TP': 858055}, {'FP': 0}, {'TN': 514332}, {'FN': 23860}, {'Precision': 1.0}, {'Recall': 0.9729452384867022}, {'F-Score': 0.9862871198928718}, {'Accuracy': 0.982911333023455}, {'MCC': 0.9642671068261592}], 'NC_003198.1': [{'TP': 607425}, {'FP': 8545}, {'TN': 540170}, {'FN': 26269}, {'Precision': 0.9861275711479455}, {'Recall': 0.9585462384052871}, {'F-Score': 0.972141311584554}, {'Accuracy': 0.9705567193754445}, {'MCC': 0.9413613075288944}], 'NC_003923.1': [{'TP': 212463}, {'FP': 1748}, {'TN': 270601}, {'FN': 5176}, {'Precision': 0.9918398214844243}, {'Recall': 0.976217497783026}, {'F-Score': 0.9839666550885725}, {'Accuracy': 0.9858690416908169}, {'MCC': 0.9714337706010012}], 'NC_004070.1': [{'TP': 231788}, {'FP': 230}, {'TN': 195177}, {'FN': 2212}, {'Precision': 0.9990086976010482}, {'Recall': 0.9905470085470085}, {'F-Score': 0.9947598590612379}, {'Accuracy': 0.9943130875835745}, {'MCC': 0.988585878000312}], 'NC_004603.1': [{'TP': 202158}, {'FP': 0}, {'TN': 137752}, {'FN': 97581}, {'Precision': 1.0}, {'Recall': 0.6744467686887592}, {'F-Score': 0.8055756459990795}, {'Accuracy': 0.7769531258928755}, {'MCC': 0.6283207177886957}]}\n",
      "---------------\n",
      "mcc =  0.9066949739422433\n",
      "f-score =  0.9533464848816978\n",
      "accuracy =  0.9473103308825528\n",
      "precision =  0.9961626817055697\n",
      "recall =  0.9214004757405799\n"
     ]
    }
   ],
   "source": [
    "predictors_folder = \"outputs/literature_predictions\"\n",
    "predictors = [\"alien_hunter\", \"islander\", \"islandpath_dimob\", \"islandviewer\", \"sigi_hmm\", \"islandpick\"]\n",
    "model_dict = {}\n",
    "result_type = 'literature' #test or literature evaluation\n",
    "\n",
    "#benbow_SVM_RCKmer_7_fine_tuned_test_benbow\n",
    "#islandpick_SVM_RCKmer_7_fine_tuned_test_benbow\n",
    "#mergedworvmgicluster_SVM_RCKmer_7_fine_tuned_benbow\n",
    "#mergedworvmgicluster_SVM_RCKmer_7_fine_tuned_benbow_test\n",
    "if result_type == 'test':\n",
    "    benbow_file = \"fine_tuned_model_test\"\n",
    "    treasure_island = \"treasure_island_test\"\n",
    "elif result_type == 'literature':\n",
    "    benbow_file = \"fine_tuned_model_literature\"\n",
    "    treasure_island = \"treasure_island_literature\"\n",
    "\n",
    "predictors += [treasure_island,benbow_file]\n",
    "\n",
    "for predictor in predictors:\n",
    "    predictor_file = os.path.join(predictors_folder, predictor)\n",
    "    predictor_file = predictor_file+'.xlsx'\n",
    "    predictor_df = pd.read_excel(predictor_file)\n",
    "\n",
    "    model_dict.update({predictor:get_organism_info(predictor_df)}) \n",
    "\n",
    "#read ground truth data (GI_literature_set_table, GI_negative_set_table, positive_test_table_gc, negative_test_table_gc)\n",
    "if result_type == 'literature':\n",
    "    pos_table = pd.read_excel(\"outputs/literature_reference/GI_literature_set_table.xlsx\")\n",
    "    neg_table = pd.read_excel(\"outputs/literature_reference/GI_negative_set_table.xlsx\")\n",
    "elif result_type == 'test':\n",
    "    pos_table = pd.read_excel(\"outputs/literature_reference/positive_test_table_gc.xlsx\")\n",
    "    neg_table = pd.read_excel(\"outputs/literature_reference/negative_test_table_gc.xlsx\")\n",
    "\n",
    "organism_pos_test_dict = get_organism_info(pos_table)\n",
    "organism_neg_test_dict = get_organism_info(neg_table)\n",
    "\n",
    "total_orgs = organism_pos_test_dict.keys()\n",
    "\n",
    "eval = Evaluations()\n",
    "\n",
    "print(\"evaluation of {} data\".format(result_type))\n",
    "eval_results = eval.evaluations_main_104(total_orgs, \n",
    "                                        model_dict, \n",
    "                                        organism_pos_test_dict, \n",
    "                                        organism_neg_test_dict, \n",
    "                                        result_type, \n",
    "                                        False)\n",
    "\n",
    "\n",
    "def myconverter(obj):\n",
    "    if isinstance(obj, np.integer):\n",
    "        return int(obj)\n",
    "    elif isinstance(obj, np.floating):\n",
    "        return float(obj)\n",
    "    elif isinstance(obj, np.ndarray):\n",
    "        return obj.tolist()\n",
    "    elif isinstance(obj, datetime.datetime):\n",
    "        return obj.__str__()\n",
    "            \n",
    "json_obj = json.dumps(eval_results, indent=1, default=myconverter)\n",
    "json_file = \"outputs/evaluation/evaluation_result_{}_fine_tuned_model.json\".format(result_type)\n",
    "\n",
    "with open(json_file, 'w') as file:\n",
    "    json.dump(json_obj, file, indent=4)"
   ]
  },
  {
   "cell_type": "code",
   "execution_count": null,
   "metadata": {},
   "outputs": [],
   "source": []
  }
 ],
 "metadata": {
  "kernelspec": {
   "display_name": "Python (ilearnplus)",
   "language": "python",
   "name": "ilearnplus"
  },
  "language_info": {
   "codemirror_mode": {
    "name": "ipython",
    "version": 3
   },
   "file_extension": ".py",
   "mimetype": "text/x-python",
   "name": "python",
   "nbconvert_exporter": "python",
   "pygments_lexer": "ipython3",
   "version": "3.10.13"
  }
 },
 "nbformat": 4,
 "nbformat_minor": 2
}
